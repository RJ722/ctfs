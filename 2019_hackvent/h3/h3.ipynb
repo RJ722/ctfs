{
 "cells": [
  {
   "cell_type": "markdown",
   "metadata": {},
   "source": [
    "# HV19.H3 Hidden Three\n",
    "\n",
    "Released with the Santa Jokes API, *Not each quote is compl*.\n",
    "\n",
    "I initially looked at the API more closely (even tried getting all quotes, and googling them to see if some quote continues - at that point, the challenge accidentally was set to manual/teacher grading).\n",
    "\n",
    "After that, I had no idea where to get started. I got a hint from someone to run `nmap` on `whale.hacking-lab.com` - that's something I wouldn't have dared without any hints in that direction, as IMHO it touches too far into the implicit \"don't mess with CTF server infrastructure outside of the challenges\" rule...\n",
    "\n",
    "nmap shows us:\n",
    "\n",
    "```\n",
    "PORT      STATE  SERVICE\n",
    "17/tcp    open   qotd\n",
    "22/tcp    open   ssh\n",
    "80/tcp    closed http\n",
    "443/tcp   closed https\n",
    "2222/tcp  closed EtherNetIP-1\n",
    "4444/tcp  closed krb524\n",
    "5555/tcp  closed freeciv \n",
    "10101/tcp open   ezmeeting-2   // quote API\n",
    "```\n",
    "\n",
    "So there is a [Quote of the day (QOTD)](https://en.wikipedia.org/wiki/QOTD) server running there... When I originally connected with `nc whale.hacking-lab.com 17` I got \"4\", so I tried various answers like \"8\" but only got disconnected.\n",
    "\n",
    "Thankfully, that was at 22:58, so when I tried again at 23:02 I got another character.\n",
    "\n",
    "At that point, I wrote something in Python, then extended it to run overnight and check for a new letter all ten minutes:"
   ]
  },
  {
   "cell_type": "code",
   "execution_count": 18,
   "metadata": {},
   "outputs": [
    {
     "name": "stdout",
     "output_type": "stream",
     "text": [
      "g\n",
      "\n"
     ]
    }
   ],
   "source": [
    "import socket\n",
    "\n",
    "with socket.socket(socket.AF_INET, socket.SOCK_STREAM) as s:\n",
    "    s.connect(('whale.hacking-lab.com', 17))\n",
    "    print(s.recv(4096).decode('ascii'))"
   ]
  },
  {
   "cell_type": "code",
   "execution_count": null,
   "metadata": {},
   "outputs": [],
   "source": [
    "import socket\n",
    "import time\n",
    "\n",
    "last = None\n",
    "\n",
    "while True:\n",
    "    with socket.socket(socket.AF_INET, socket.SOCK_STREAM) as s:\n",
    "        s.connect(('whale.hacking-lab.com', 17))\n",
    "        data = s.recv(4096).decode('ascii').strip()\n",
    "        if data != last:\n",
    "            print(data.strip())\n",
    "            last = data\n",
    "    time.sleep(60 * 10)"
   ]
  },
  {
   "cell_type": "markdown",
   "metadata": {},
   "source": [
    "Turns out the flag is 24 characters long, and a new one appears every hour (starting at 00:00). After ~~waiting long enough~~ *waiting a bit and then asking someone for the rest of the letters, because I was late anyways*, this appears:"
   ]
  },
  {
   "cell_type": "markdown",
   "metadata": {},
   "source": [
    "\n",
    "```\n",
    "4\n",
    "g\n",
    "}\n",
    "H\n",
    "V\n",
    "1\n",
    "9\n",
    "{\n",
    "a\n",
    "n\n",
    "0\n",
    "t\n",
    "h\n",
    "e\n",
    "r\n",
    "_\n",
    "D\n",
    "A\n",
    "I\n",
    "L\n",
    "Y\n",
    "_\n",
    "f\n",
    "l\n",
    "```"
   ]
  },
  {
   "cell_type": "markdown",
   "metadata": {},
   "source": [
    "Which gives us the flag, `HV19{an0ther_DAILY_fl4g}`."
   ]
  }
 ],
 "metadata": {
  "kernelspec": {
   "display_name": "Python 3",
   "language": "python",
   "name": "python3"
  },
  "language_info": {
   "codemirror_mode": {
    "name": "ipython",
    "version": 3
   },
   "file_extension": ".py",
   "mimetype": "text/x-python",
   "name": "python",
   "nbconvert_exporter": "python",
   "pygments_lexer": "ipython3",
   "version": "3.8.0"
  }
 },
 "nbformat": 4,
 "nbformat_minor": 2
}
