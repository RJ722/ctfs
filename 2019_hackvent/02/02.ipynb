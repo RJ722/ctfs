{
 "cells": [
  {
   "cell_type": "markdown",
   "metadata": {},
   "source": [
    "# HV19.02 Triangulation\n",
    "\n",
    "## Challenge\n",
    "\n",
    "We get a .zip file with a [STL file](https://en.wikipedia.org/wiki/STL_%28file_format%29) in it. Viewing it with [OpenSCAD](https://www.openscad.org/) shows us a christmas bulb:\n",
    "\n",
    "![Christmas bulb](openscad.png)\n",
    "\n",
    "The original file is binary, but re-saving it from OpenSCAD gives us a more human-readable version:"
   ]
  },
  {
   "cell_type": "code",
   "execution_count": 6,
   "metadata": {},
   "outputs": [
    {
     "name": "stdout",
     "output_type": "stream",
     "text": [
      "solid OpenSCAD_Model\r\n",
      "  facet normal 0.30439 -0.89691 -0.320778\r\n",
      "    outer loop\r\n",
      "      vertex 11.508 2.34158 36.896\r\n",
      "      vertex 11.44 2.30062 36.946\r\n",
      "      vertex 9.219 1.794 36.255\r\n",
      "    endloop\r\n",
      "  endfacet\r\n",
      "  facet normal 0.945007 0.0620611 0.321107\r\n",
      "    outer loop\r\n"
     ]
    }
   ],
   "source": [
    "!head Triangulation2.stl"
   ]
  },
  {
   "cell_type": "markdown",
   "metadata": {},
   "source": [
    "## Solution\n",
    "\n",
    "I suspected the code was hidden inside the bulb, similar to the Disco Hacky Easter challenge.\n",
    "\n",
    "While it'd be possible to find the middle point of the bulb, then write a script to remove the outside surface, doing so would be quite cumbersome. Instead, I tried different 3D software to be able to manipulate the object and ended up using [PrusaSlicer](https://www.prusa3d.com/prusaslicer/) - that made it trivial to open the bulb and separate the code:\n",
    "\n",
    "![PrusaSlicer 1](prusa1.png)\n",
    "![PrusaSlicer 2](prusa2.png)\n",
    "![PrusaSlicer 3](prusa3.png)\n",
    "\n",
    "After taking a screenshot, some quick edits in GIMP made the code readable:\n",
    "\n",
    "![Code](code.png)\n",
    "\n",
    "However, note how the code isn't a QR code - it's an [Aztec Code](https://en.wikipedia.org/wiki/Aztec_Code) instead!\n",
    "\n",
    "Thankfully, the Android ZXing Barcode Scanner can read those after enabling them in the settings - which gives us the flag, `HV19{Cr4ck_Th3_B411!}`."
   ]
  }
 ],
 "metadata": {
  "kernelspec": {
   "display_name": "Python 3",
   "language": "python",
   "name": "python3"
  },
  "language_info": {
   "codemirror_mode": {
    "name": "ipython",
    "version": 3
   },
   "file_extension": ".py",
   "mimetype": "text/x-python",
   "name": "python",
   "nbconvert_exporter": "python",
   "pygments_lexer": "ipython3",
   "version": "3.8.0"
  }
 },
 "nbformat": 4,
 "nbformat_minor": 2
}
