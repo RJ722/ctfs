{
 "cells": [
  {
   "cell_type": "markdown",
   "metadata": {},
   "source": [
    "# HV19.17 Unicode Portal\n",
    "\n",
    "*Buy your special gifts online, but for the ultimative gift you have to become admin.*\n",
    "\n",
    "In this challenge, we get a web portal focused on unicode characters:\n",
    "\n",
    "![Portal screenshot](./portal.png)\n",
    "\n",
    "After registering an account and logging in, we can access a \"Source\" page: *Since Santa is a big fan of open source software, he publicly provides his authentication code. For free!*.\n",
    "\n",
    "From there, we can get this PHP snippet:\n",
    "\n",
    "```php\n",
    "<?php\n",
    "\n",
    "if (isset($_GET['show'])) highlight_file(__FILE__);\n",
    "\n",
    "/**\n",
    " * Verifies user credentials.\n",
    " */\n",
    "function verifyCreds($conn, $username, $password) {\n",
    "  $usr = $conn->real_escape_string($username);\n",
    "  $res = $conn->query(\"SELECT password FROM users WHERE username='\".$usr.\"'\");\n",
    "  $row = $res->fetch_assoc();\n",
    "  if ($row) {\n",
    "    if (password_verify($password, $row['password'])) return true;\n",
    "    else addFailedLoginAttempt($conn, $_SERVER['REMOTE_ADDR']);\n",
    "  }\n",
    "  return false;\n",
    "}\n",
    "\n",
    "/**\n",
    " * Determines if the given user is admin.\n",
    " */\n",
    "function isAdmin($username) {\n",
    "  return ($username === 'santa');\n",
    "}\n",
    "\n",
    "/**\n",
    " * Determines if the given username is already taken.\n",
    " */\n",
    "function isUsernameAvailable($conn, $username) {\n",
    "  $usr = $conn->real_escape_string($username);\n",
    "  $res = $conn->query(\"SELECT COUNT(*) AS cnt FROM users WHERE LOWER(username) = BINARY LOWER('\".$usr.\"')\");\n",
    "  $row = $res->fetch_assoc();\n",
    "  return (int)$row['cnt'] === 0;\n",
    "}\n",
    "\n",
    "/**\n",
    " * Registers a new user.\n",
    " */\n",
    "function registerUser($conn, $username, $password) {\n",
    "  $usr = $conn->real_escape_string($username);\n",
    "  $pwd = password_hash($password, PASSWORD_DEFAULT);\n",
    "  $conn->query(\"INSERT INTO users (username, password) VALUES (UPPER('\".$usr.\"'),'\".$pwd.\"') ON DUPLICATE KEY UPDATE password='\".$pwd.\"'\");\n",
    "}\n",
    "\n",
    "/**\n",
    " * Adds a failed login attempt for the given ip address. An ip address gets blacklisted for 15 minutes if there are more than 3 failed login attempts.\n",
    " */\n",
    "function addFailedLoginAttempt($conn, $ip) {\n",
    "  $ip = $conn->real_escape_string($ip);\n",
    "  $conn->query(\"INSERT INTO fails (ip) VALUES ('\".$ip.\"')\");\n",
    "}\n",
    "\n",
    "?>\n",
    "```\n",
    "\n",
    "I can't see any SQL injection or obvious PHP issues (like using `==` instead of `===`) there, but there are some things that seem strange:\n",
    "\n",
    "- We can access the \"admin\" page (which probably gives us the flag) if we can log in as the \"santa\" user.\n",
    "- If `registerUser` gets called with a duplicate key, it updates the password of santa.\n",
    "- The `registerUser` function calls `UPPER(...)` on the username\n",
    "- However, we're prevented from registering an existing user due to the check in `isUsernameAvailable`\n",
    "- Note that that function uses `LOWER(...) = BINARY LOWER(...)` to check for usernames.\n",
    "\n",
    "At that point I was pretty sure this was related to case handling somehow. For `a-z`/`A-Z`, the mapping from lower- to uppercase is quite obvious. However, the challenge makes it obvious that we'll need to deal with Unicode somehow. In alphabets other than the typical English/latin alphabet, things can get hairy.\n",
    "\n",
    "The typical example of this is probably [Turkish](http://www.i18nguy.com/unicode/turkish-i18n.html): Their alphabet has lower-/uppercase version of a dotless i (ı/I) and a dotted i (i/İ). Those are different sounds - in other words, upper/lowercasing words in a non locale-aware way results in a wrong word:"
   ]
  },
  {
   "cell_type": "code",
   "execution_count": 1,
   "metadata": {},
   "outputs": [
    {
     "data": {
      "text/plain": [
       "'kadin'"
      ]
     },
     "execution_count": 1,
     "metadata": {},
     "output_type": "execute_result"
    }
   ],
   "source": [
    "\"Kadın\".upper().lower()"
   ]
  },
  {
   "cell_type": "markdown",
   "metadata": {},
   "source": [
    "This issue recently caused a [security bug](https://eng.getwisdom.io/hacking-github-with-unicode-dotless-i/) on GitHub! We can get something similar with the German ß as well:"
   ]
  },
  {
   "cell_type": "code",
   "execution_count": 2,
   "metadata": {},
   "outputs": [
    {
     "data": {
      "text/plain": [
       "'strasse'"
      ]
     },
     "execution_count": 2,
     "metadata": {},
     "output_type": "execute_result"
    }
   ],
   "source": [
    "\"Straße\".upper().lower()"
   ]
  },
  {
   "cell_type": "markdown",
   "metadata": {},
   "source": [
    "To change the password of santa, we'll need to find something that passes as \"santa\" when registering (thus changing the password of the santa user), but doesn't get detected by `isUsernameAvailable`.\n",
    "\n",
    "Since I wasn't exactly sure how those casing collisions work in practice, I started by reading the [Unicode case mapping FAQ](http://unicode.org/faq/casemap_charprop.html). There, a question caught my attention:\n",
    "\n",
    "> Q: Why is there no unique uppercase character for ſ — U+017F LATIN SMALL LETTER LONG S (and about one hundred other characters)?\n",
    "\n",
    "The [history of this character](https://en.wikipedia.org/wiki/Long_s) was quite an interesting read for the linguistics/typography nerd in me!\n",
    "\n",
    "Anyways - that character sounds like something we could use to create a fake santa user:"
   ]
  },
  {
   "cell_type": "code",
   "execution_count": 3,
   "metadata": {},
   "outputs": [
    {
     "data": {
      "text/plain": [
       "'SANTA'"
      ]
     },
     "execution_count": 3,
     "metadata": {},
     "output_type": "execute_result"
    }
   ],
   "source": [
    "\"ſanta\".upper()"
   ]
  },
  {
   "cell_type": "markdown",
   "metadata": {},
   "source": [
    "And indeed, after registering a \"ſanta\" user, we can then log in as \"santa\" with the password we selected. Then, we can access the admin page and get the flag, `HV19{h4v1ng_fun_w1th_un1c0d3}`."
   ]
  }
 ],
 "metadata": {
  "kernelspec": {
   "display_name": "Python 3",
   "language": "python",
   "name": "python3"
  },
  "language_info": {
   "codemirror_mode": {
    "name": "ipython",
    "version": 3
   },
   "file_extension": ".py",
   "mimetype": "text/x-python",
   "name": "python",
   "nbconvert_exporter": "python",
   "pygments_lexer": "ipython3",
   "version": "3.8.0"
  }
 },
 "nbformat": 4,
 "nbformat_minor": 2
}
