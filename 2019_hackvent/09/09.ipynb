{
 "cells": [
  {
   "cell_type": "markdown",
   "metadata": {},
   "source": [
    "# HV19.09 Santas Quick Response 3.0"
   ]
  },
  {
   "cell_type": "markdown",
   "metadata": {},
   "source": [
    "## Introduction\n",
    "\n",
    "We get the following picture of a railway station:\n",
    "\n",
    "![Railway Station](train.jpg)\n",
    "\n",
    "And a somewhat broken QR code:\n",
    "\n",
    "![QR Code](qr.png)"
   ]
  },
  {
   "cell_type": "markdown",
   "metadata": {},
   "source": [
    "## Initial research\n",
    "\n",
    "A Google reverse image search reveals a [Wikipedia article](https://en.wikipedia.org/wiki/Rule_30) about \"Rule 30\", a cellular automaton similar to e.g. Conway's Game of Life:\n",
    "\n",
    "![Rule 30](rule30.png)\n",
    "\n",
    "Pixels are set based on the pattern above them:\n",
    "\n",
    "| 111 | 110 | 101 | 100 | 011 | 010 | 001 | 000 |\n",
    "| --- | --- | --- | --- | --- | --- | --- | --- |\n",
    "| 0   | 0   | 0   | 1   | 1   | 1   | 1   | 0   |"
   ]
  },
  {
   "cell_type": "markdown",
   "metadata": {},
   "source": [
    "## Loading QR code\n",
    "\n",
    "First, let's try to load the QR code into Python via [Pillow](https://pillow.readthedocs.io/).\n",
    "The QR code is 33x33 squares big, one square is 5x5px."
   ]
  },
  {
   "cell_type": "code",
   "execution_count": 3,
   "metadata": {},
   "outputs": [],
   "source": [
    "from PIL import Image\n",
    "\n",
    "CNT = 33  # squares in the QR-code\n",
    "\n",
    "def read():\n",
    "    qr = Image.open(\"qr.png\")\n",
    "    data = [[] for _ in range(CNT)]\n",
    "    for sq_y in range(CNT):\n",
    "        for sq_x in range(CNT):\n",
    "            pixel = qr.getpixel((sq_x * 5, sq_y * 5))\n",
    "            val = {0: 1, 255: 0}[pixel]\n",
    "            data[sq_y].append(val)\n",
    "        \n",
    "    return data\n",
    "\n",
    "def display(data):\n",
    "    chars = {1: '*', 0: ' '}\n",
    "    for line in data:\n",
    "        print(''.join(chars[c] for c in line))"
   ]
  },
  {
   "cell_type": "code",
   "execution_count": 4,
   "metadata": {},
   "outputs": [
    {
     "name": "stdout",
     "output_type": "stream",
     "text": [
      "*******   *  * **   ***   *******\n",
      "*     * **  ** *****  * * *     *\n",
      "* *** * ** * *** *****  * * *** *\n",
      "* *** * **   * * * ****   * *** *\n",
      "* *** * **** *     **  *  * *** *\n",
      "*     * ****  ****  ** *  *     *\n",
      "******* * **  *** *   *** *******\n",
      "         ***** ** *  **          \n",
      "  *  ****   * *   *     *  ***** \n",
      "  **** ** * *** * *   **       **\n",
      "* * * **   * * * * ** * ******* *\n",
      " *    **  * *     * * ***  ***   \n",
      "    **  *   *  *    **  *** ** **\n",
      " ***    ** * * * *     ** * ***  \n",
      "   ** *   *  **     *** ***   ***\n",
      " **   * *  *    * * **** ****** *\n",
      "  *   *    *  **  *      * *  ** \n",
      "****  * **  * *  * *   * **   * *\n",
      "* *  ****** **  ** *  *  **  ****\n",
      "*  *   **  * *     *** * ***  ***\n",
      " * **   * ***** ***  *  *******  \n",
      "*** *   * **  **  ****  *  ***** \n",
      "*** *    ** **** * ***  *  * * * \n",
      "* *  ****  ***** * * * * * ******\n",
      "*  ***  ** *  **  *  *** *    * *\n",
      "**  *** * ** * *   *   *  * *  * \n",
      " *   *****    *** ** * **  ***   \n",
      "  *  * **** *** *    *   **  **  \n",
      "*    **   *   *** *   * **** ****\n",
      " * **   ** ** **  * **   *   *  *\n",
      "  * **     **  * *    *  ** *****\n",
      "**** ** ***   *  ***  *****    * \n",
      "  ***  ***    **    ** **  * ** *\n"
     ]
    }
   ],
   "source": [
    "data = read()\n",
    "display(data)"
   ]
  },
  {
   "cell_type": "markdown",
   "metadata": {},
   "source": [
    "## First idea\n",
    "\n",
    "Looking at the QR code, the data in the top corners seems to be valid (so we probably don't need to touch it), while the data in the bottom corners clearly isn't a valid QR code. When taking a closer look, we also see some other patterns that are missing - from Wikipedia:\n",
    "\n",
    "![QR code structure](qr-structure.svg)\n",
    "\n",
    "Thus, we maybe need to use the rule30 data to toggle bits, so that we leave the top corners alone but modify the bottom corners?\n",
    "\n",
    "I'll use the [rule30](https://pypi.org/project/rule30/) Python library to generate Rule30 patterns."
   ]
  },
  {
   "cell_type": "code",
   "execution_count": 5,
   "metadata": {},
   "outputs": [
    {
     "name": "stdout",
     "output_type": "stream",
     "text": [
      "00000000000000000000000000000000100000000000000000000000000000000\n",
      "00000000000000000000000000000001110000000000000000000000000000000\n",
      "00000000000000000000000000000011001000000000000000000000000000000\n",
      "00000000000000000000000000000110111100000000000000000000000000000\n",
      "00000000000000000000000000001100100010000000000000000000000000000\n",
      "00000000000000000000000000011011110111000000000000000000000000000\n",
      "00000000000000000000000000110010000100100000000000000000000000000\n",
      "00000000000000000000000001101111001111110000000000000000000000000\n",
      "00000000000000000000000011001000111000001000000000000000000000000\n",
      "00000000000000000000000110111101100100011100000000000000000000000\n",
      "00000000000000000000001100100001011110110010000000000000000000000\n",
      "00000000000000000000011011110011010000101111000000000000000000000\n",
      "00000000000000000000110010001110011001101000100000000000000000000\n",
      "00000000000000000001101111011001110111001101110000000000000000000\n",
      "00000000000000000011001000010111000100111001001000000000000000000\n",
      "00000000000000000110111100110100101111100111111100000000000000000\n",
      "00000000000000001100100011100111101000011100000010000000000000000\n",
      "00000000000000011011110110011100001100110010000111000000000000000\n",
      "00000000000000110010000101110010011011101111001100100000000000000\n",
      "00000000000001101111001101001111110010001000111011110000000000000\n",
      "00000000000011001000111001111000001111011101100010001000000000000\n",
      "00000000000110111101100111000100011000010001010111011100000000000\n",
      "00000000001100100001011100101110110100111011010100010010000000000\n",
      "00000000011011110011010011101000100111100010010110111111000000000\n",
      "00000000110010001110011110001101111100010111110100100000100000000\n",
      "00000001101111011001110001011001000010110100000111110001110000000\n",
      "00000011001000010111001011010111100110100110001100001011001000000\n",
      "00000110111100110100111010010100011100111101011010011010111100000\n",
      "00001100100011100111100011110110110011100001010011110010100010000\n",
      "00011011110110011100010110000100101110010011011110001110110111000\n",
      "00110010000101110010110101001111101001111110010001011000100100100\n",
      "01101111001101001110100101111000001111000001111011010101111111110\n",
      "11001000111001111000111101000100011000100011000010010101000000001\n"
     ]
    }
   ],
   "source": [
    "import rule30\n",
    "\n",
    "r30 = rule30.Automaton(rows=CNT)\n",
    "print(r30.string())"
   ]
  },
  {
   "cell_type": "markdown",
   "metadata": {},
   "source": [
    "This looks like something we can use to try that theory, but it's not a square... Given that the QR code is 33x33 fields big, you'd think you can just start with the middle pixel in the first row. This doesn't result in a working QR code however.\n",
    "\n",
    "After my original (failed) approach, I fired up GIMP and tried to create a \"diff\" of what you'd need to change in the QR code to get the fixed patterns. Dark read means \"is 0 but should be 1\", light red means \"is 1 but should be 0\".\n",
    "\n",
    "![QR code diff](qr-diff.png)\n",
    "\n",
    "I couldn't find those patterns in rule30, so I might have done a mistake at some point. However, it later turned out that the start is shifted by one pixel... A challenge hint \"centering is hard\" was released later, but I'm assuming this wasn't originally intended."
   ]
  },
  {
   "cell_type": "code",
   "execution_count": 6,
   "metadata": {},
   "outputs": [
    {
     "data": {
      "text/plain": [
       "(65, 33)"
      ]
     },
     "execution_count": 6,
     "metadata": {},
     "output_type": "execute_result"
    }
   ],
   "source": [
    "len(r30.matrix[0]), len(r30.matrix)  # width, height"
   ]
  },
  {
   "cell_type": "code",
   "execution_count": 7,
   "metadata": {},
   "outputs": [],
   "source": [
    "def flip_bits(data):\n",
    "    diff = 65 - CNT\n",
    "    # For some reason, it's not centered in the challenge...\n",
    "    left = diff // 2 - 1\n",
    "    right = diff // 2 + 1\n",
    "    for y in range(CNT):\n",
    "        r30_line = r30.matrix[y][left:-right]\n",
    "        # print(r30_line)\n",
    "        for x in range(CNT):\n",
    "            data[y][x] ^= r30_line[x]"
   ]
  },
  {
   "cell_type": "code",
   "execution_count": 8,
   "metadata": {
    "scrolled": true
   },
   "outputs": [],
   "source": [
    "data = read()\n",
    "flip_bits(data)"
   ]
  },
  {
   "cell_type": "markdown",
   "metadata": {},
   "source": [
    "This results in something which looks like a QR-code!"
   ]
  },
  {
   "cell_type": "code",
   "execution_count": 9,
   "metadata": {},
   "outputs": [
    {
     "name": "stdout",
     "output_type": "stream",
     "text": [
      "*******   *  * ***  ***   *******\n",
      "*     * **  ** *   *  * * *     *\n",
      "* *** * ** * ** *** **  * * *** *\n",
      "* *** * **   **   *  **   * *** *\n",
      "* *** * ****  *  * *** *  * *** *\n",
      "*     * *******   *   **  *     *\n",
      "******* * * * * * * * * * *******\n",
      "         *  * *   ***  **        \n",
      "  *  ****** ***  * *    ** ***** \n",
      "  **** * ***     ** * *****    **\n",
      "* * * * *    * ****  *** ** *** *\n",
      " *       * *   **   * * ***  *   \n",
      "    * * **  ***   ******* * *  **\n",
      " ***** *  ***  ** * ******       \n",
      "      **  * ** **    ***  * * * *\n",
      " * * * *    * * ****     *     * \n",
      " *   **  **     ****    * **  ** \n",
      "  * **       *   *  *   ****  *  \n",
      "  ** *** * * * ****  * *   ****  \n",
      "*** *     **  *******  *  ** *  *\n",
      "   ******     * ***** *    *  *  \n",
      "     *   * *   *    **     * * **\n",
      "***   *******     ** * * *  *****\n",
      "  **** **** * **   ** *  *  ** * \n",
      "*** ****   * * *** ***********   \n",
      "        *  **  **  * *  *   *  **\n",
      "******* * * *    ****   * * ** **\n",
      "*     * * *  *  * **** **   ** * \n",
      "* *** *  * **   **   * ******* **\n",
      "* *** *    **  * ***    ** ***** \n",
      "* *** * * ***** *  *   **  *** **\n",
      "*     *  * ****  ** ** **** ***  \n",
      "*******  **    *  ****  *   *** *\n"
     ]
    }
   ],
   "source": [
    "display(data)"
   ]
  },
  {
   "cell_type": "code",
   "execution_count": 13,
   "metadata": {},
   "outputs": [],
   "source": [
    "import itertools\n",
    "\n",
    "def write_img(data):\n",
    "    img = Image.new(mode='1', size=(CNT, CNT))\n",
    "    for y, line in enumerate(data):\n",
    "        for x, val in enumerate(line):\n",
    "            img.putpixel((x, y), not val)\n",
    "    \n",
    "    return img.resize((CNT * 5, CNT * 5))\n",
    "\n",
    "img = write_img(data)\n",
    "img.save(\"result.png\")"
   ]
  },
  {
   "cell_type": "markdown",
   "metadata": {},
   "source": [
    "This gives us the QR code. For some extra h4xx0r points, let's use [zbarlight](https://github.com/Polyconseil/zbarlight/) to get the flag as well."
   ]
  },
  {
   "cell_type": "markdown",
   "metadata": {},
   "source": [
    "![Resulting QR-Code](result.png)"
   ]
  },
  {
   "cell_type": "code",
   "execution_count": 14,
   "metadata": {},
   "outputs": [
    {
     "name": "stdout",
     "output_type": "stream",
     "text": [
      "HV19{Cha0tic_yet-0rdered}\n"
     ]
    }
   ],
   "source": [
    "import zbarlight\n",
    "    \n",
    "codes = zbarlight.scan_codes(['qrcode'], img)\n",
    "print(codes[0].decode('ascii'))"
   ]
  }
 ],
 "metadata": {
  "kernelspec": {
   "display_name": "Python 3",
   "language": "python",
   "name": "python3"
  },
  "language_info": {
   "codemirror_mode": {
    "name": "ipython",
    "version": 3
   },
   "file_extension": ".py",
   "mimetype": "text/x-python",
   "name": "python",
   "nbconvert_exporter": "python",
   "pygments_lexer": "ipython3",
   "version": "3.8.0"
  }
 },
 "nbformat": 4,
 "nbformat_minor": 2
}
