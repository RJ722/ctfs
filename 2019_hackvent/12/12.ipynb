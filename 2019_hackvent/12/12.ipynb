{
 "cells": [
  {
   "cell_type": "markdown",
   "metadata": {},
   "source": [
    "# HV19.12 back to basic\n",
    "\n",
    "We get an exe which seems to be a VisualBasic application:"
   ]
  },
  {
   "cell_type": "code",
   "execution_count": 1,
   "metadata": {},
   "outputs": [
    {
     "name": "stdout",
     "output_type": "stream",
     "text": [
      "__vbaFreeVar\r\n",
      "__vbaVarForNext\r\n",
      "__vbaStrVarVal\r\n",
      "__vbaVarXor\r\n",
      "__vbaI4Var\r\n",
      "__vbaVarAdd\r\n",
      "__vbaVarSub\r\n",
      "__vbaVarForInit\r\n",
      "__vbaLenVar\r\n",
      "__vbaVarTstEq\r\n",
      "__vbaFreeVarList\r\n",
      "__vbaVarCmpEq\r\n",
      "__vbaVarAnd\r\n",
      "__vbaBoolVarNull\r\n",
      "__vbaVarMove\r\n",
      "__vbaFreeObjList\r\n",
      "__vbaFreeStr\r\n",
      "__vbaLenBstr\r\n",
      "__vbaFreeObj\r\n",
      "__vbaHresultCheckObj\r\n",
      "__vbaObjSet\r\n",
      "__vbaVarSub\r\n",
      "__vbaVarMove\r\n",
      "__vbaFreeVar\r\n",
      "__vbaLenBstr\r\n",
      "__vbaFreeVarList\r\n",
      "__vbaFreeObjList\r\n",
      "__vbaHresultCheckObj\r\n",
      "__vbaLenVar\r\n",
      "__vbaVarXor\r\n",
      "__vbaVarForInit\r\n",
      "__vbaObjSet\r\n",
      "__vbaBoolVarNull\r\n",
      "__vbaChkstk\r\n",
      "__vbaVarTstEq\r\n",
      "__vbaVarAnd\r\n",
      "__vbaExceptHandler\r\n",
      "__vbaFPException\r\n",
      "__vbaStrVarVal\r\n",
      "__vbaI4Var\r\n",
      "__vbaVarCmpEq\r\n",
      "__vbaVarAdd\r\n",
      "__vbaVarForNext\r\n",
      "__vbaFreeObj\r\n",
      "__vbaFreeStr\r\n"
     ]
    }
   ],
   "source": [
    "!strings BackToBasic.exe | grep __vba"
   ]
  },
  {
   "cell_type": "markdown",
   "metadata": {},
   "source": [
    "If we run it on Windows, we get:\n",
    "\n",
    "![Screenshot](./basic.png)\n",
    "\n",
    "So the big question was how to get that into some readable format. At the point I solved this challenge, I hadn't used Ghidra/IDA yet (I later did on day 16). I also wasn't sure if it was the right tool for this job, so I looked for VBA disassemblers.\n",
    "\n",
    "I found [VB Decompiler](https://www.vb-decompiler.org/) and [VBReFormer](https://qiil.io/) and used them to analyze the function called when the entered text changed. Unfortunately, all the free versions could produce was some 600 lines of disassembly.\n",
    "\n",
    "At that point, I also found the string `\"6klzic<=bPBtdvff'y\\x7fFI~on//N\"` (not a literal `\\x7f`, but an ASCII DEL). This will be important for alter\n",
    "\n",
    "A big part of the disassembly looked like this:\n",
    "\n",
    "```x86asm\n",
    "loc_004020B5: mov esi, [00401054h] ; rtcMidCharVar\n",
    "loc_004020BB: lea eax, var_5C\n",
    "loc_004020BE: push eax\n",
    "loc_004020BF: lea ecx, var_34\n",
    "loc_004020C2: push 00000001h\n",
    "loc_004020C4: lea edx, var_6C\n",
    "loc_004020C7: mov ebx, 00000002h\n",
    "loc_004020CC: push ecx\n",
    "loc_004020CD: push edx\n",
    "loc_004020CE: mov var_54, 00000001h\n",
    "loc_004020D5: mov var_5C, ebx\n",
    "loc_004020D8: call rtcMidCharVar\n",
    "```\n",
    "\n",
    "In this snippet, the following happens:\n",
    "\n",
    "- `var_54` is set to 1\n",
    "- `var_5C` is set to 2 (via `ebx` which was set earlier)\n",
    "- A call to the [`Mid` Visual Basic function](https://docs.microsoft.com/en-us/office/vba/language/reference/user-interface-help/mid-function)\n",
    "\n",
    "To understand how the VisualBasic calls worked, I mainly used a [weirdly formatted blogpost](https://hvoidcode.wordpress.com/2016/02/06/vb-function-description-for-reversing/) and the [Chinese original](https://blog.csdn.net/weixin_30736301/article/details/95964460). Here's an example, based on the same code, but shortened and rearranged:\n",
    "\n",
    "```x86asm\n",
    "lea eax, var_5C\n",
    "push eax\n",
    "\n",
    "push 00000001h\n",
    "\n",
    "lea ecx, var_34\n",
    "push ecx\n",
    "\n",
    "lea edx, var_6C\n",
    "push edx\n",
    "\n",
    "call rtcMidCharVar\n",
    "```\n",
    "\n",
    "The calling convention seems to be so that this corresponds to:\n",
    "\n",
    "```basic\n",
    "var_6C = Mid(var_34, 1, var_5C)\n",
    "```\n",
    "\n",
    "I basically did that for some six hours until I had an idea what the application was doing. Two things made this much more difficult:\n",
    "\n",
    "- At some points where I was supposed to see some data, I only saw 0x8008 (same when looking at the file in Ghidra as part of writing this writeup)\n",
    "- Some arguments in the disassembly seemed to be wrong. For example, for a (very important) `for`-loop which starts with 6, `var_164` is set to 6 (and never used), but then `__vbaVarForInit` is called with `var_6C`, `var_16C`, `var_1E4`, `var_1D4` and `var_24`. The VBReFormer tool ended up showing me `For var_24 = var_25 To #NOT SUPPORTED# Step 1` but not showing me `var_25` and `var_25` anywhere.\n",
    "\n",
    "Because of all those issues, I needed a hint or two from someone who already solved the challenge.\n",
    "\n",
    "After an excruciating six hours, I had an idea of what was happening - here is a rough Python reimplementation (trying to more or less keep the original structure, so not using Python idioms):"
   ]
  },
  {
   "cell_type": "code",
   "execution_count": 19,
   "metadata": {},
   "outputs": [],
   "source": [
    "DATA = b\"6klzic<=bPBtdvff'y\\x7fFI~on//N\"\n",
    "\n",
    "def check(inp):\n",
    "    mid1 = inp[0] # 004020B5\n",
    "    mid2 = inp[1] # 004020DA\n",
    "    mid3 = inp[2] # 00402113\n",
    "    mid4 = inp[3] # 0040214D\n",
    "    \n",
    "    ok = mid1 == 'H'  # 00402187\n",
    "    \n",
    "    ok2 = mid2 == 'V' # 004021B0\n",
    "    ok &= ok2         # 004021CC\n",
    "    \n",
    "    ok3 = mid3 == '1' # 004021DA\n",
    "    ok &= ok3         # 004021F6\n",
    "    \n",
    "    ok4 = mid4 == '9' # 00402204\n",
    "    ok &= ok4         # 00402220\n",
    "    \n",
    "    assert ok\n",
    "    \n",
    "    length = len(inp)    # 00402286\n",
    "    assert length == 33  # 004022A8\n",
    "    \n",
    "    for i in range(6, 33):  # 004022BF to 0040232D\n",
    "        assert ord(inp[i-1]) ^ i == DATA[i-6]  # 00402339 to 004023C0"
   ]
  },
  {
   "cell_type": "markdown",
   "metadata": {},
   "source": [
    "So we can get the flag based on that weird string we found initially:"
   ]
  },
  {
   "cell_type": "code",
   "execution_count": 20,
   "metadata": {},
   "outputs": [
    {
     "name": "stdout",
     "output_type": "stream",
     "text": [
      "HV19{0ldsch00l_Revers1ng_Sess10n}\n"
     ]
    }
   ],
   "source": [
    "print('HV19{' + ''.join(chr(k ^ i) for i, k in enumerate(DATA, start=6)) + '}')"
   ]
  }
 ],
 "metadata": {
  "kernelspec": {
   "display_name": "Python 3",
   "language": "python",
   "name": "python3"
  },
  "language_info": {
   "codemirror_mode": {
    "name": "ipython",
    "version": 3
   },
   "file_extension": ".py",
   "mimetype": "text/x-python",
   "name": "python",
   "nbconvert_exporter": "python",
   "pygments_lexer": "ipython3",
   "version": "3.8.0"
  }
 },
 "nbformat": 4,
 "nbformat_minor": 2
}
