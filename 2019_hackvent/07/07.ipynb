{
 "cells": [
  {
   "cell_type": "markdown",
   "metadata": {},
   "source": [
    "# HV19.07 Santa Rider\n",
    "\n",
    "*Santa is prototyping a new gadget for his sledge. Unfortunately it still has some glitches, but look for yourself.*\n",
    "\n",
    "We get a video with 8 LEDs blinking.\n",
    "\n",
    "Let's try to get those bytes out of the video! If I had the time and wanted to learn something new I'd probably have used [OpenCV](https://opencv.org/) to try and get the data automatically. However, the video was only 22 seconds long, so I instead used `,` and `.` (frame back/forward) in [mpv](https://mpv.io/) to get the data by hand. This resulted in:\n",
    "\n",
    "```\n",
    "01001000\n",
    "01010110\n",
    "00110001\n",
    "00111001\n",
    "01111011\n",
    "00110001\n",
    "01101101\n",
    "01011111\n",
    "01100001\n",
    "01101100\n",
    "01110011\n",
    "00110000\n",
    "01011111\n",
    "01110111\n",
    "00110000\n",
    "01110010\n",
    "01101011\n",
    "00110001\n",
    "01101110\n",
    "01100111\n",
    "01011111\n",
    "00110000\n",
    "01101110\n",
    "01011111\n",
    "01100001\n",
    "01011111\n",
    "01110010\n",
    "00110011\n",
    "01101101\n",
    "00110000\n",
    "01110100\n",
    "00110011\n",
    "01011111\n",
    "01100011\n",
    "00110000\n",
    "01101110\n",
    "01110100\n",
    "01110000\n",
    "01101100\n",
    "01111101\n",
    "```\n",
    "\n",
    "Which looks like a lot like ASCII because the highest bit/LED is always 0. Let's see what Python gives us."
   ]
  },
  {
   "cell_type": "code",
   "execution_count": 1,
   "metadata": {},
   "outputs": [
    {
     "name": "stdout",
     "output_type": "stream",
     "text": [
      "HV19{1m_als0_w0rk1ng_0n_a_r3m0t3_c0ntpl}"
     ]
    }
   ],
   "source": [
    "with open(\"data.txt\") as f:\n",
    "    for line in f:\n",
    "        c = chr(int(line.strip(), 2))\n",
    "        print(c, end='')"
   ]
  },
  {
   "cell_type": "markdown",
   "metadata": {},
   "source": [
    "Looks like I made some mistakes towards the end, but the correct flag can be easily guessed: `HV19{1m_als0_w0rk1ng_0n_a_r3m0t3_c0ntr0l}`"
   ]
  }
 ],
 "metadata": {
  "kernelspec": {
   "display_name": "Python 3",
   "language": "python",
   "name": "python3"
  },
  "language_info": {
   "codemirror_mode": {
    "name": "ipython",
    "version": 3
   },
   "file_extension": ".py",
   "mimetype": "text/x-python",
   "name": "python",
   "nbconvert_exporter": "python",
   "pygments_lexer": "ipython3",
   "version": "3.8.0"
  }
 },
 "nbformat": 4,
 "nbformat_minor": 2
}
