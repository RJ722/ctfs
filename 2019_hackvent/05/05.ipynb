{
 "cells": [
  {
   "cell_type": "markdown",
   "metadata": {},
   "source": [
    "# HV19.05 Santa Parcel Tracking\n",
    "\n",
    "*To handle the huge load of parcels Santa introduced this year a parcel tracking system. He didn't like the black and white barcode, so he invented a more solemn barcode. Unfortunately the common barcode readers can't read it anymore, it only works with the pimped models santa owns. Can you read the barcode*\n",
    "\n",
    "We get this colored Barcode:\n",
    "\n",
    "![Barcode](./barcode.png)\n",
    "\n",
    "Let's read it into Pillow and look at the data."
   ]
  },
  {
   "cell_type": "code",
   "execution_count": 3,
   "metadata": {
    "scrolled": true
   },
   "outputs": [
    {
     "name": "stdout",
     "output_type": "stream",
     "text": [
      "[(115, 80, 88), (116, 89, 56), (108, 80, 89), (109, 69, 73), (114, 49, 79), (121, 51, 70), (115, 80, 48), (101, 81, 90), (103, 56, 80), (122, 57, 52), (117, 76, 83), (104, 84, 56), (101, 71, 72), (122, 48, 86), (97, 88, 49), (103, 48, 57), (108, 79, 123), (116, 79, 68), (108, 74, 49), (103, 74, 102), (120, 73, 102), (122, 73, 105), (103, 85, 99), (106, 83, 117), (105, 72, 108), (105, 81, 116), (118, 54, 95), (118, 48, 116), (115, 77, 111), (115, 73, 95), (97, 81, 103), (105, 73, 51), (101, 52, 116), (119, 83, 95), (98, 57, 97), (116, 69, 95), (117, 71, 83), (104, 52, 80), (97, 56, 84), (108, 78, 95), (113, 86, 82), (99, 86, 51), (108, 80, 97), (102, 54, 100), (113, 53, 101), (114, 71, 114), (99, 79, 125), (119, 88, 83), (102, 76, 49), (113, 48, 48), (118, 86, 57), (101, 87, 48), (110, 74, 79), (103, 87, 77), (120, 50, 90), (101, 51, 69), (107, 50, 48), (111, 51, 69), (97, 83, 51), (108, 82, 78), (116, 85, 70), (121, 56, 80), (118, 66, 54), (101, 66, 69)]\n"
     ]
    }
   ],
   "source": [
    "from PIL import Image\n",
    "\n",
    "\n",
    "def chunk(elems, n):\n",
    "    for i in range(0, len(elems), n):\n",
    "        yield elems[i:i + n]\n",
    "\n",
    "\n",
    "def load():\n",
    "    img = Image.open(\"barcode.png\")\n",
    "    data = list(img.getdata())\n",
    "\n",
    "    # Split the data into individual lines and only take the first 90 ones (which is the actual code in the image).\n",
    "    # Then, make sure all lines are the same, so there are no color variations inside the bar.\n",
    "    # Always a good idea to check if assumptions are correct, especially if it's that easy.\n",
    "    lines = list(chunk(data, img.width))[:90]\n",
    "    assert all(line == lines[0] for line in lines)\n",
    "\n",
    "    line = lines[0]\n",
    "    \n",
    "    # Here we (ab)use the fact that dictionaries are ordered in Python 3.6+.\n",
    "    # We want to get the colors of each bar, but eliminate duplicates and ignore while pixels.\n",
    "    colors = list({pixel: None for pixel in line if pixel != (255, 255, 255)})\n",
    "    return colors\n",
    "\n",
    "\n",
    "colors = load()\n",
    "print(colors)"
   ]
  },
  {
   "cell_type": "markdown",
   "metadata": {},
   "source": [
    "Note how all values are < 128 (which is why the barcode is relatively dark), so the values could be ASCII values? Let's try:"
   ]
  },
  {
   "cell_type": "code",
   "execution_count": 5,
   "metadata": {},
   "outputs": [
    {
     "name": "stdout",
     "output_type": "stream",
     "text": [
      "stlmrysegzuhezagltlgxzgjiivvssaiewbtuhalqclfqrcwfqvengxekoaltyve\n"
     ]
    }
   ],
   "source": [
    "print(''.join(chr(c[0]) for c in colors))  # red"
   ]
  },
  {
   "cell_type": "code",
   "execution_count": 6,
   "metadata": {},
   "outputs": [
    {
     "name": "stdout",
     "output_type": "stream",
     "text": [
      "PYPE13PQ89LTG0X0OOJJIIUSHQ60MIQI4S9EG48NVVP65GOXL0VWJW2323SRU8BB\n"
     ]
    }
   ],
   "source": [
    "print(''.join(chr(c[1]) for c in colors))  # green"
   ]
  },
  {
   "cell_type": "code",
   "execution_count": 7,
   "metadata": {},
   "outputs": [
    {
     "name": "stdout",
     "output_type": "stream",
     "text": [
      "X8YIOF0ZP4S8HV19{D1fficult_to_g3t_a_SPT_R3ader}S1090OMZE0E3NFP6E\n"
     ]
    }
   ],
   "source": [
    "print(''.join(chr(c[2]) for c in colors))  # blue"
   ]
  },
  {
   "cell_type": "markdown",
   "metadata": {},
   "source": [
    "There's our flag, `HV19{D1fficult_to_g3t_a_SPT_R3ader}`. Note that I tried a lot of other things during the challenge, because I expected the first bars to be `HV19{` and didn't look at the rest of the data... Lesson learned: Always question your initial assumptions."
   ]
  }
 ],
 "metadata": {
  "kernelspec": {
   "display_name": "Python 3",
   "language": "python",
   "name": "python3"
  },
  "language_info": {
   "codemirror_mode": {
    "name": "ipython",
    "version": 3
   },
   "file_extension": ".py",
   "mimetype": "text/x-python",
   "name": "python",
   "nbconvert_exporter": "python",
   "pygments_lexer": "ipython3",
   "version": "3.8.0"
  }
 },
 "nbformat": 4,
 "nbformat_minor": 2
}
