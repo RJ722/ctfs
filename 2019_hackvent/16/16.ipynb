{
 "cells": [
  {
   "cell_type": "markdown",
   "metadata": {},
   "source": [
    "# HV19.16 B0rked Calculator\n",
    "\n",
    "*Santa has coded a simple project for you, but sadly he removed all the operations. But when you restore them it will print the flag!*\n",
    "\n",
    "We get an `.exe` file - thankfully it runs fine under [Wine](https://www.winehq.org/), as I prefer to work on Linux without a Windows VM when possible:\n",
    "\n",
    "![Calculator screenshot](./calc.png)\n",
    "\n",
    "Other than the \"Back to basic\" nightmare earlier this Hackvent, this was the first time I reverse-engineered a binary. I already had [Ghidra](https://ghidra-sre.org/) installed on my machine, but never used it so far. So I opened the exe in Ghidra to take a closer look!\n",
    "\n",
    "At address `0040145b` (in what's probably the `main` function), we find (slightly edited):\n",
    "\n",
    "```c\n",
    "if (DAT_00402138 == '+') {\n",
    "    uValue = FUN_004015b6((char)uValue,\n",
    "                          extraout_DL_02,\n",
    "                          extraout_CL_02,\n",
    "                          DAT_00402120);\n",
    "} else if (DAT_00402138 == '-') {\n",
    "    uValue = FUN_004015c4((char)uValue,\n",
    "                          extraout_DL_02,\n",
    "                          extraout_CL_02,\n",
    "                          (char)DAT_00402120,\n",
    "                          uValue);\n",
    "} else if (DAT_00402138 == '*') {\n",
    "    uValue = FUN_004015d4();\n",
    "} else if (DAT_00402138 == '/') {\n",
    "    uValue = FUN_004015e4();\n",
    "}\n",
    "```\n",
    "\n",
    "So I renamed those functions to `op_plus`, `op_minus`, `op_times` and `op_divide`. They all look something like this:\n",
    "\n",
    "```\n",
    "004015b6 c8 00 00 00     ENTER      0x0,0x0\n",
    "004015ba 8b 45 08        MOV        param_1,dword ptr [EBP + param_4]\n",
    "004015bd 90              NOP\n",
    "004015be 90              NOP\n",
    "004015bf 90              NOP\n",
    "004015c0 c9              LEAVE\n",
    "004015c1 c2 08 00        RET        0x8\n",
    "```\n",
    "\n",
    "It looks like we're supposed to patch the binary so the calculator works and the flag is shown. Unfortunately, Ghidra [can't save patched files](https://github.com/NationalSecurityAgency/ghidra/issues/19) (unless they're opened as raw binary, which seems to disable many useful analysis features). I found a [SavePatch.py script](https://github.com/schlafwandler/ghidra_SavePatch) which seems to work fine.\n",
    "\n",
    "However, I was a bit confused about the calling convention at that point - where do I get the arguments, which registers can I use, and how do I need to return the result?\n",
    "\n",
    "I decided to dig a bit deeper - looking at references, we also find a function I call `show_flag` at `00401519`:\n",
    "\n",
    "```\n",
    "ENTER      0x0,0x0\n",
    "\n",
    "PUSH       0x1762a070\n",
    "PUSH       0x21ceb5d8\n",
    "CALL       op_plus\n",
    "MOV        [DAT_004020a0],param_1\n",
    "\n",
    "PUSH       0x38b57698\n",
    "PUSH       0xaae5b913\n",
    "CALL       op_minus\n",
    "MOV        [DAT_004020a4],param_1\n",
    "\n",
    "PUSH       0x2\n",
    "PUSH       0xbec8cad6\n",
    "CALL       op_divide\n",
    "MOV        [DAT_004020a8],param_1\n",
    "\n",
    "PUSH       0x2\n",
    "PUSH       0x33b0b623\n",
    "CALL       op_times\n",
    "MOV        [DAT_004020ac],param_1\n",
    "\n",
    "PUSH       0x53bd761a\n",
    "PUSH       0x18a3cd45\n",
    "CALL       op_plus\n",
    "MOV        [DAT_004020b0],param_1\n",
    "\n",
    "PUSH       0x46c920f4\n",
    "PUSH       0xa8359657\n",
    "CALL       op_minus\n",
    "MOV        [DAT_004020b4],param_1\n",
    "\n",
    "PUSH       0x4\n",
    "PUSH       0x1f5c8c1d\n",
    "CALL       op_times\n",
    "MOV        [DAT_004020b8],param_1\n",
    "\n",
    "PUSH       DAT_004020a0\n",
    "PUSH       0x3e8\n",
    "PUSH       dword ptr [EBP + param_4]\n",
    "CALL       SetDlgItemTextA\n",
    "\n",
    "LEAVE\n",
    "RET        0x4\n",
    "```\n",
    "\n",
    "Since those oparations seemed quite straightforward, I thought I'd instead reimplement them in Python instead.\n",
    "\n",
    "If we look at the displayed flag, it starts with `ØµÎ!`. Encoded as [Latin1](https://de.wikipedia.org/wiki/ISO_8859-1) that'd be: 0xD8, 0xB5, 0xCE, 0x21\n",
    "\n",
    "This matches up with the `0x21ceb5d8` above after some bit-twiddling. Let's write a decoding function:"
   ]
  },
  {
   "cell_type": "code",
   "execution_count": 11,
   "metadata": {},
   "outputs": [
    {
     "name": "stdout",
     "output_type": "stream",
     "text": [
      "ØµÎ!\n"
     ]
    }
   ],
   "source": [
    "def decode(dword):\n",
    "    data = dword.to_bytes(4, byteorder='little')\n",
    "    return data.decode('latin1')\n",
    "\n",
    "print(decode(0x21ceb5d8))"
   ]
  },
  {
   "cell_type": "markdown",
   "metadata": {},
   "source": [
    "Then we can get the flag by reimplementing the same calculations in Python:"
   ]
  },
  {
   "cell_type": "code",
   "execution_count": 14,
   "metadata": {},
   "outputs": [
    {
     "name": "stdout",
     "output_type": "stream",
     "text": [
      "HV19{B0rked_Flag_Calculat0r}\n"
     ]
    }
   ],
   "source": [
    "flag = decode(0x21ceb5d8 + 0x1762a070)\n",
    "flag += decode(0xaae5b913 - 0x38b57698)\n",
    "flag += decode(0xbec8cad6 // 2)\n",
    "flag += decode(0x33b0b623 * 2)\n",
    "flag += decode(0x53bd761a + 0x18a3cd45)\n",
    "flag += decode(0xa8359657 - 0x46c920f4)\n",
    "flag += decode(0x1f5c8c1d * 4)\n",
    "print(flag)"
   ]
  }
 ],
 "metadata": {
  "kernelspec": {
   "display_name": "Python 3",
   "language": "python",
   "name": "python3"
  },
  "language_info": {
   "codemirror_mode": {
    "name": "ipython",
    "version": 3
   },
   "file_extension": ".py",
   "mimetype": "text/x-python",
   "name": "python",
   "nbconvert_exporter": "python",
   "pygments_lexer": "ipython3",
   "version": "3.8.0"
  }
 },
 "nbformat": 4,
 "nbformat_minor": 2
}
