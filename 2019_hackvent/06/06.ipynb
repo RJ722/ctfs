{
 "cells": [
  {
   "cell_type": "markdown",
   "metadata": {},
   "source": [
    "# HV19.06 bacon and eggs\n",
    "\n",
    "We get a text about Francis Bacon which looks kind of weird: Some letters are italic. Let's feed it to [Beautiful Soup](https://www.crummy.com/software/BeautifulSoup/) to take a look!"
   ]
  },
  {
   "cell_type": "code",
   "execution_count": 2,
   "metadata": {},
   "outputs": [],
   "source": [
    "import bs4\n",
    "\n",
    "with open('francis.html') as f:\n",
    "    soup = bs4.BeautifulSoup(f.read(), 'html.parser')"
   ]
  },
  {
   "cell_type": "code",
   "execution_count": 3,
   "metadata": {},
   "outputs": [
    {
     "name": "stdout",
     "output_type": "stream",
     "text": [
      "FnnwsangiospnseahrveatneLdChcelEnldsweredeithelongteeitmnedflenalroutcienrouoBcoasbelthfefiricsHiworgessiliycncknoedgadypncirsgaareflbsvfeesnaestiorttyhergueiculdbahiespicalndtilaroaerssmoiieadgveAoughpcadaoutschamhtaioitaoglaticthgneioftonsbitfci\n"
     ]
    }
   ],
   "source": [
    "print(''.join(c.text for c in soup.p.contents if c.name == 'em'))  # All italic letters"
   ]
  },
  {
   "cell_type": "code",
   "execution_count": 4,
   "metadata": {},
   "outputs": [
    {
     "name": "stdout",
     "output_type": "stream",
     "text": [
      "racis Baco a n Elish phloher ad tatsmn wo sed s Atorey Genral and as or anlor of gan. Hi orks ar citd w dvepi h scintfic mehod and reai inuti thgh he stific evltin.\n",
      "an h en caled e athr o empim. s ks arued for th pobit of sietifi wle bse onl uon idutve eaonin nd cu oeration o vnt in tur. Mo mpanl,  ad scene co e ceved by us of a cet a mehodca ppch wheby cientist ai t avod mslin themsels. lthh is raticl ies ab u  etod, he Bconan methd, dd no have  ln-sing nfluene, e eral dea  he imprtace and posiily o a septcal methodology makes Bacon the father of the scientific method. This method was a new rhetorical and theoretical framework for science, the practical details of which are still central in debates about science and methodology.\n"
     ]
    }
   ],
   "source": [
    "print(''.join(c for c in soup.p.contents if c.name is None))  # All other text"
   ]
  },
  {
   "cell_type": "markdown",
   "metadata": {},
   "source": [
    "Nothing interesting so far. A bit of research reveals [Bacon's cipher](https://en.wikipedia.org/wiki/Bacon's_cipher):\n",
    "                                                       \n",
    "*Bacon's cipher or the Baconian cipher is a method of message encoding devised by Francis Bacon in 1605. A message is concealed in the presentation of text, rather than its content.*\n",
    "                                                       \n",
    "Oh, that sounds exactly like what we're looking at! Let's try to convert our tags into A and B's."
   ]
  },
  {
   "cell_type": "code",
   "execution_count": 7,
   "metadata": {},
   "outputs": [],
   "source": [
    "def convert(tags):\n",
    "    for t in tags:\n",
    "        if t.name is None:  # text outside tags\n",
    "            s = str(t)\n",
    "            for c in s:\n",
    "                yield 'A'\n",
    "        elif t.name == 'em':  # text inside <em> tags\n",
    "            for c in t.text:\n",
    "                yield 'B'\n",
    "        else:  # should never happen, but always good to be sure\n",
    "            raise Exception(t.name)"
   ]
  },
  {
   "cell_type": "code",
   "execution_count": 15,
   "metadata": {},
   "outputs": [
    {
     "name": "stdout",
     "output_type": "stream",
     "text": [
      "BAABAAAAAAAABABABABAAABBAAAAAAABABBABAAAAABAABAAABAABAAABAAAABBBAABAAAABAABAAAAAABAAAAAAAAAAABAABABBAABBABAAAAAABBABAABAAAABABAAAAAAABAABBBAABAAABBBAABAABBAABBABABAAAABAABAAAAAABAAAAAAAAAABAABBBAAABBABBAABBAAABBBAAABAAAABBBBAAAAAABAABABAABAAABABBAAABBABABAAAABAAAABBAABAAABAAABAAAABBBBABAAABBAABBBAAAAABAAAAAAAAAABAAABBBAABBABAAAAABAABAAAABABBBAABBBAAABAABAAAABAABAAAABAABABAAABAABAAAABABAAAABBBBABAABBAABAAAAAAABABABAABAAAABBAAABAAAABBABAABBBAABABAABBAABBBBAAAABAABAAAABBBABAABABBAAAAAAAAAABAAAAAABAABABBBBAABBAAABAAABAABABAABBBAAAAABBAAAABAAAAAAAABAAABAABAAAABAAABAABBBAABAAAAAAAABBAAABAAABBBAABAAABAABAAABAAABABAAAABBBABABBABABAABAAAABAAAABAAABAAAAAAABAAAABAAAABAAAAAABAABABABBABAAAABAAAAAABAAABBAABABBAAAABAAAABBABAAAAAABAAABAAAAAAAAAABABAABBAAABAAAABAAABAAAAAAAAAAAAAAAAAAAAAAAAAAAAAAAAAAAAAAAAAAAAAAAAAAAAAAAAAAAAAAAAAAAAAAAAAAAAAAAAAAAAAAAAAAAAAAAAAAAAAAAAAAAAAAAAAAAAAAAAAAAAAAAAAAAAAAAAAAAAAAAAAAAAAAAAAAAAAAAAAAAAAAAAAAAAAAAAAAAAAAAAAAAAAAAAAAAAAAAAAAAAAAAAAAAAAAAAAAAAAAAAAAA\n"
     ]
    }
   ],
   "source": [
    "data = list(convert(soup.p.contents))\n",
    "print(''.join(data))"
   ]
  },
  {
   "cell_type": "markdown",
   "metadata": {},
   "source": [
    "Now let's write some code to convert that into plain text. In reality I used an [online tool](http://rumkin.com/tools/cipher/baconian.php) during the challenge, but it's relatively easy to convert it via Python."
   ]
  },
  {
   "cell_type": "code",
   "execution_count": 11,
   "metadata": {},
   "outputs": [
    {
     "name": "stdout",
     "output_type": "stream",
     "text": [
      "{'00000': 'A', '00001': 'B', '00010': 'C', '00011': 'D', '00100': 'E', '00101': 'F', '00110': 'G', '00111': 'H', '01000': 'I', '01001': 'J', '01010': 'K', '01011': 'L', '01100': 'M', '01101': 'N', '01110': 'O', '01111': 'P', '10000': 'Q', '10001': 'R', '10010': 'S', '10011': 'T', '10100': 'U', '10101': 'V', '10110': 'W', '10111': 'X', '11000': 'Y', '11001': 'Z'}\n",
      "{'AAAAA': 'A', 'AAAAB': 'B', 'AAABA': 'C', 'AAABB': 'D', 'AABAA': 'E', 'AABAB': 'F', 'AABBA': 'G', 'AABBB': 'H', 'ABAAA': 'I', 'ABAAB': 'J', 'ABABA': 'K', 'ABABB': 'L', 'ABBAA': 'M', 'ABBAB': 'N', 'ABBBA': 'O', 'ABBBB': 'P', 'BAAAA': 'Q', 'BAAAB': 'R', 'BAABA': 'S', 'BAABB': 'T', 'BABAA': 'U', 'BABAB': 'V', 'BABBA': 'W', 'BABBB': 'X', 'BBAAA': 'Y', 'BBAAB': 'Z'}\n"
     ]
    }
   ],
   "source": [
    "import string\n",
    "\n",
    "bacon_mapping = {f'{i:05b}': c for i, c in enumerate(string.ascii_uppercase)}\n",
    "print(bacon_mapping)\n",
    "\n",
    "bacon_mapping = {k.replace('0', 'A').replace('1', 'B'): v for k, v in bacon_mapping.items()}\n",
    "print(bacon_mapping)"
   ]
  },
  {
   "cell_type": "code",
   "execution_count": 21,
   "metadata": {},
   "outputs": [
    {
     "name": "stdout",
     "output_type": "stream",
     "text": [
      "['BAABA', 'AAAAA', 'AABAB', 'ABABA', 'AABBA', 'AAAAA', 'ABABB', 'ABAAA', 'AABAA', 'BAAAB', 'AABAA', 'ABAAA', 'ABBBA', 'ABAAA', 'ABAAB', 'AAAAA', 'ABAAA', 'AAAAA', 'AAABA', 'ABABB', 'AABBA', 'BAAAA', 'AABBA', 'BAABA', 'AAABA', 'BAAAA', 'AAABA', 'ABBBA', 'ABAAA', 'BBBAA', 'BAABB', 'AABBA', 'BABAA', 'AABAA', 'BAAAA', 'AABAA', 'AAAAA', 'AAABA', 'ABBBA', 'AABBA', 'BBAAB', 'BAAAB', 'BBAAA', 'BAAAA', 'BBBBA', 'AAAAA', 'BAABA', 'BAABA', 'AABAB', 'BAAAB', 'BABAB', 'AAAAB', 'AAAAB', 'BAABA', 'AABAA', 'ABAAA', 'ABBBB', 'ABAAA', 'BBAAB', 'BBAAA', 'AABAA', 'AAAAA', 'AAABA', 'AABBB', 'AABBA', 'BAAAA', 'ABAAB', 'AAAAB', 'ABBBA', 'ABBBA', 'AABAA', 'BAAAA', 'BAABA', 'AAABA', 'ABABA', 'AABAA', 'BAAAA', 'BABAA', 'AABBB', 'BABAA', 'BBAAB', 'AAAAA', 'AABAB', 'ABAAB', 'AAAAB', 'BAAAB', 'AAAAB', 'BABAA', 'BBBAA', 'BABAA', 'BBAAB', 'BBBAA', 'AABAA', 'BAAAA', 'BBBAB', 'AABAB', 'BAAAA', 'AAAAA', 'ABAAA', 'AAABA', 'ABABB', 'BBAAB', 'BAAAB', 'AAABA', 'ABABA', 'ABBBA', 'AAAAB', 'BAAAA', 'BAAAA', 'AAAAB', 'AAABA', 'ABAAA', 'ABAAA', 'BAABB', 'BAABA', 'AAAAA', 'AABBA', 'AABAA', 'ABBBA', 'ABAAA', 'BAABA', 'AABAA', 'ABABA', 'AAABB', 'BABAB', 'BABAB', 'AABAA', 'AABAA', 'AABAA', 'ABAAA', 'AAAAB', 'AAAAB', 'AAAAB', 'AAAAA', 'ABAAB', 'ABABB', 'ABAAA', 'ABAAA', 'AAABA', 'AABBA', 'ABABB', 'AAAAB', 'AAAAB', 'BABAA', 'AAAAB', 'AAABA', 'AAAAA', 'AAAAB', 'ABAAB', 'BAAAB', 'AAAAB', 'AAABA', 'AAAAA', 'AAAAA', 'AAAAA', 'AAAAA', 'AAAAA', 'AAAAA', 'AAAAA', 'AAAAA', 'AAAAA', 'AAAAA', 'AAAAA', 'AAAAA', 'AAAAA', 'AAAAA', 'AAAAA', 'AAAAA', 'AAAAA', 'AAAAA', 'AAAAA', 'AAAAA', 'AAAAA', 'AAAAA', 'AAAAA', 'AAAAA', 'AAAAA', 'AAAAA', 'AAAAA', 'AAAAA', 'AAAAA', 'AAAAA', 'AAAAA', 'AAAAA', 'AAAAA', 'AAAAA', 'AAAAA', 'AAAAA', 'AAAAA', 'AAAAA', 'AAAAA', 'AAAAA', 'AAAAA', 'AAAAA', 'AAAAA', 'AAAAA', 'AAAAA', 'A']\n"
     ]
    }
   ],
   "source": [
    "def chunk(elems, n):\n",
    "    for i in range(0, len(elems), n):\n",
    "        yield elems[i:i + n]\n",
    "        \n",
    "chunks = [''.join(e) for e in chunk(data, 5)]\n",
    "print(chunks)"
   ]
  },
  {
   "cell_type": "code",
   "execution_count": 22,
   "metadata": {},
   "outputs": [
    {
     "name": "stdout",
     "output_type": "stream",
     "text": [
      "SAFKGALIEREIOIJAIACLGQGSCQCOI?TGUEQEACOGZRYQ?ASSFRVBBSEIPIZYEACHGQJBOOEQSCKEQUHUZAFJBRBU?UZ?EQ?FQAICLZRCKOBQQBCIITSAGEOISEKDVVEEEIBBBAJLIICGLBBUBCABJRBCAAAAAAAAAAAAAAAAAAAAAAAAAAAAAAAAAAAAAAAAAAAAA?\n"
     ]
    }
   ],
   "source": [
    "print(''.join(bacon_mapping.get(chunk, '?') for chunk in chunks))"
   ]
  },
  {
   "cell_type": "markdown",
   "metadata": {},
   "source": [
    "Hmm, that looks bad. There even are some unknown combinations in there... We have spaces in our input, so we probably shouldn't count those! Let's try again:"
   ]
  },
  {
   "cell_type": "code",
   "execution_count": 23,
   "metadata": {},
   "outputs": [
    {
     "name": "stdout",
     "output_type": "stream",
     "text": [
      "SANTALIKESHISBACONBURQFZHJTUJAQBHGZTSHQJJCZ?ENCI?TOCAE??EQ?OJCRFEQY?WIDJGEOOK?YSHVQBCL?EJTQYQBFCJZAGI?ERFD?ZCEICEIKWRAJVRDQIQBJSIQAAAAAAAAAAAAAAAAAAAAAAAAAAAAAAAAAAAAA?\n"
     ]
    }
   ],
   "source": [
    "def clean(s):\n",
    "    return s.replace(' ', '')\n",
    "\n",
    "\n",
    "def convert(tags):\n",
    "    for t in tags:\n",
    "        if t.name is None:  # text outside tags\n",
    "            s = clean(str(t))   # NEW: cleaning the string here.\n",
    "            for c in s:\n",
    "                yield 'A'\n",
    "        elif t.name == 'em':  # text inside <em> tags\n",
    "            for c in clean(t.text):  # NEW: cleaning the string here.\n",
    "                yield 'B'\n",
    "        else:  # should never happen, but always good to be sure\n",
    "            raise Exception(t.name)\n",
    "            \n",
    "data = list(convert(soup.p.contents))\n",
    "chunks = [''.join(e) for e in chunk(data, 5)]\n",
    "print(''.join(bacon_mapping.get(chunk, '?') for chunk in chunks))"
   ]
  },
  {
   "cell_type": "markdown",
   "metadata": {},
   "source": [
    "Finally something readable: *Santa likes his bacon*! We're on the right track, but something still throws us off. Oh, right, sentences have punctiation marks. Let's try removing `.` and `,` too."
   ]
  },
  {
   "cell_type": "code",
   "execution_count": 24,
   "metadata": {},
   "outputs": [
    {
     "name": "stdout",
     "output_type": "stream",
     "text": [
      "SANTALIKESHISBACONBUTALSOTHISBACONTHEPASSLHIRUJD??QQBHGREHTSIUJJEGHVSA?JRHHF?YSHVQBCL?EJTQYQBFCJZAGR?JCKHXSIRAJCCVUIC?YRYEIAUZEIAAAAAAAAAAAAAAAAAAAAAAAAAAAAAAAAAAAAA?\n"
     ]
    }
   ],
   "source": [
    "def clean(s):\n",
    "    for c in [' ', ',', '.']:\n",
    "        s = s.replace(c, '')\n",
    "    return s\n",
    "\n",
    "data = list(convert(soup.p.contents))\n",
    "chunks = [''.join(e) for e in chunk(data, 5)]\n",
    "print(''.join(bacon_mapping.get(chunk, '?') for chunk in chunks))"
   ]
  },
  {
   "cell_type": "markdown",
   "metadata": {},
   "source": [
    "Arrrgh. We get *Santa likes his bacon but also this bacon the pass* and then something throws us off again... Let's just filter out everything except characters then."
   ]
  },
  {
   "cell_type": "code",
   "execution_count": 25,
   "metadata": {},
   "outputs": [
    {
     "name": "stdout",
     "output_type": "stream",
     "text": [
      "SANTALIKESHISBACONBUTALSOTHISBACONTHEPASSWORDISHVXBACONCIPHERISSIMPLEBUTCOOLXREPLACEXWITHBRACKETSANDUSEUPPERCASEFORALLCHARACTERAAAAAAAAAAAAAAAAAAAAAAAAAAAAAAAAAAAAAA\n"
     ]
    }
   ],
   "source": [
    "import re\n",
    "\n",
    "def clean(s):\n",
    "    return re.sub('[^a-zA-Z]', '', s)\n",
    "\n",
    "\n",
    "data = list(convert(soup.p.contents))\n",
    "chunks = [''.join(e) for e in chunk(data, 5)]\n",
    "print(''.join(bacon_mapping.get(chunk, '?') for chunk in chunks))"
   ]
  },
  {
   "cell_type": "markdown",
   "metadata": {},
   "source": [
    "There we go! *Santa likes his bacon but also this bacon, the password is \"HVXBACONCIPHERISSIMPLEBUTCOOLX\", replace \"X\" with brackets and use uppercase for all character.*\n",
    "\n",
    "That sounds like the flag would be `HV{BACONCIPHERISSIMPLEBUTCOOL}` - however, that's wrong, as it should start with `HV19{`. After fixing that, the flag is the correct one."
   ]
  }
 ],
 "metadata": {
  "kernelspec": {
   "display_name": "Python 3",
   "language": "python",
   "name": "python3"
  },
  "language_info": {
   "codemirror_mode": {
    "name": "ipython",
    "version": 3
   },
   "file_extension": ".py",
   "mimetype": "text/x-python",
   "name": "python",
   "nbconvert_exporter": "python",
   "pygments_lexer": "ipython3",
   "version": "3.8.0"
  }
 },
 "nbformat": 4,
 "nbformat_minor": 2
}
