{
 "cells": [
  {
   "cell_type": "markdown",
   "metadata": {},
   "source": [
    "# HV19.H1 Hidden One\n",
    "\n",
    "This challenge was released on the same day \"HV19.06 bacon and eggs\" was, so let's take a closer look there.\n",
    "\n",
    "Something seems strange - why is a code block used for some information about Francis Bacon?\n",
    "\n",
    "![Code block](codeblock.png)\n",
    "\n",
    "Pressing \"copy to clipboard\" and pasting it into a file gives us the same info:"
   ]
  },
  {
   "cell_type": "code",
   "execution_count": 3,
   "metadata": {},
   "outputs": [
    {
     "name": "stdout",
     "output_type": "stream",
     "text": [
      "Born: January 22\t     \t \t   \t   \t \t       \t     \t  \t  \r\n",
      "Died: April 9   \t  \t \t    \t  \t      \t   \t\t  \t  \r\n",
      "Mother: Lady Anne   \t\t \t   \t   \t      \t  \t      \t  \r\n",
      "Father: Sir Nicholas\t \t      \t\t    \t    \t  \t  \t      \t      \r\n",
      "Secrets: unknown      \t \t  \t \t    \t    \t   \t       \t  \r\n"
     ]
    }
   ],
   "source": [
    "%cat text.txt"
   ]
  },
  {
   "cell_type": "markdown",
   "metadata": {},
   "source": [
    "However, when taking a closer look, we can see a mixture of whitespace there. That sure seems strange!"
   ]
  },
  {
   "cell_type": "code",
   "execution_count": 4,
   "metadata": {},
   "outputs": [
    {
     "name": "stdout",
     "output_type": "stream",
     "text": [
      "00000000  42 6f 72 6e 3a 20 4a 61  6e 75 61 72 79 20 32 32  |Born: January 22|\r\n",
      "00000010  09 20 20 20 20 20 09 20  09 20 20 20 09 20 20 20  |.     . .   .   |\r\n",
      "00000020  09 20 09 20 20 20 20 20  20 20 09 20 20 20 20 20  |. .       .     |\r\n",
      "00000030  09 20 20 09 20 20 0a 44  69 65 64 3a 20 41 70 72  |.  .  .Died: Apr|\r\n",
      "00000040  69 6c 20 39 20 20 20 09  20 20 09 20 09 20 20 20  |il 9   .  . .   |\r\n",
      "00000050  20 09 20 20 09 20 20 20  20 20 20 09 20 20 20 09  | .  .      .   .|\r\n",
      "00000060  09 20 20 09 20 20 0a 4d  6f 74 68 65 72 3a 20 4c  |.  .  .Mother: L|\r\n",
      "00000070  61 64 79 20 41 6e 6e 65  20 20 20 09 09 20 09 20  |ady Anne   .. . |\r\n",
      "00000080  20 20 09 20 20 20 09 20  20 20 20 20 20 09 20 20  |  .   .      .  |\r\n",
      "00000090  09 20 20 20 20 20 20 09  20 20 0a 46 61 74 68 65  |.      .  .Fathe|\r\n",
      "000000a0  72 3a 20 53 69 72 20 4e  69 63 68 6f 6c 61 73 09  |r: Sir Nicholas.|\r\n",
      "000000b0  20 09 20 20 20 20 20 20  09 09 20 20 20 20 09 20  | .      ..    . |\r\n",
      "000000c0  20 20 20 09 20 20 09 20  20 09 20 20 20 20 20 20  |   .  .  .      |\r\n",
      "000000d0  09 20 20 20 20 20 20 0a  53 65 63 72 65 74 73 3a  |.      .Secrets:|\r\n",
      "000000e0  20 75 6e 6b 6e 6f 77 6e  20 20 20 20 20 20 09 20  | unknown      . |\r\n",
      "000000f0  09 20 20 09 20 09 20 20  20 20 09 20 20 20 20 09  |.  . .    .    .|\r\n",
      "00000100  20 20 20 09 20 20 20 20  20 20 20 09 20 20 0a     |   .       .  .|\r\n",
      "0000010f\r\n"
     ]
    }
   ],
   "source": [
    "!hexdump -C text.txt"
   ]
  },
  {
   "cell_type": "markdown",
   "metadata": {},
   "source": [
    "I first assumed the tabs/spaces would be another bacon cipher (like in the original challenge), but that wasn't the case. Hiding data via steganography with whitespace sure seems like a nice idea though. After some quick research I found [SNOW](http://darkside.com.au/snow/):\n",
    "\n",
    "> The program SNOW is used to conceal messages in ASCII text by appending whitespace to the end of lines. Because spaces and tabs are generally not visible in text viewers, the message is effectively hidden from casual observers.\n",
    "\n",
    "That sounds great. Let's give it a try!"
   ]
  },
  {
   "cell_type": "code",
   "execution_count": 6,
   "metadata": {},
   "outputs": [
    {
     "name": "stdout",
     "output_type": "stream",
     "text": [
      "Warning: residual of 5 bits not output\r\n",
      "�i�YB�\ta6i�\u0018%&�P�"
     ]
    }
   ],
   "source": [
    "!snow text.txt"
   ]
  },
  {
   "cell_type": "markdown",
   "metadata": {},
   "source": [
    "Argh. Maybe that was too good to be true? Looking at the [manpage](http://darkside.com.au/snow/manual.html), there are only two options which affect decryption:\n",
    "\n",
    "> -C    Compress the data if concealing, or uncompress it if extracting.\n",
    ">\n",
    "> -p password   If this is set, the data will be encrypted with this password during concealment, or decrypted during extraction.\n",
    "\n",
    "I assume we don't need to guess/bruteforce a password. Let's try if the compression flag helps (spoiler: it does!)."
   ]
  },
  {
   "cell_type": "code",
   "execution_count": 7,
   "metadata": {},
   "outputs": [
    {
     "name": "stdout",
     "output_type": "stream",
     "text": [
      "HV19{1stHiddenFound}"
     ]
    }
   ],
   "source": [
    "!snow -C text.txt"
   ]
  }
 ],
 "metadata": {
  "kernelspec": {
   "display_name": "Python 3",
   "language": "python",
   "name": "python3"
  },
  "language_info": {
   "codemirror_mode": {
    "name": "ipython",
    "version": 3
   },
   "file_extension": ".py",
   "mimetype": "text/x-python",
   "name": "python",
   "nbconvert_exporter": "python",
   "pygments_lexer": "ipython3",
   "version": "3.8.0"
  }
 },
 "nbformat": 4,
 "nbformat_minor": 2
}
