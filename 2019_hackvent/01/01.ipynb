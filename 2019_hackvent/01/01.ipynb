{
 "cells": [
  {
   "cell_type": "markdown",
   "metadata": {},
   "source": [
    "# HV19.01 censored\n",
    "\n",
    "## Challenge\n",
    "\n",
    "![Censored QR code](censored.jpg)\n",
    "\n",
    "I got this little image, but it looks like the best part got censored on the way. Even the tiny preview icon looks clearer than this! Maybe they missed something that would let you restore the original content?\n",
    "\n",
    "## Approach\n",
    "\n",
    "Let's use [exiftool](https://exiftool.org/) to extract the embedded preview image."
   ]
  },
  {
   "cell_type": "code",
   "execution_count": 14,
   "metadata": {},
   "outputs": [
    {
     "name": "stdout",
     "output_type": "stream",
     "text": [
      "    1 output files created\r\n"
     ]
    }
   ],
   "source": [
    "!exiftool -preview:all -b -W preview.jpg censored.jpg"
   ]
  },
  {
   "cell_type": "markdown",
   "metadata": {},
   "source": [
    "This results in the following image. After resizing it a bit, we can read the flag from the QR code (using [zbarlight](https://github.com/Polyconseil/zbarlight/) because using a phone would be lame!)."
   ]
  },
  {
   "cell_type": "markdown",
   "metadata": {},
   "source": [
    "![Preview image](preview.jpg)"
   ]
  },
  {
   "cell_type": "code",
   "execution_count": 17,
   "metadata": {},
   "outputs": [
    {
     "name": "stdout",
     "output_type": "stream",
     "text": [
      "HV19{just-4-PREview!}\n"
     ]
    }
   ],
   "source": [
    "from PIL import Image\n",
    "import zbarlight\n",
    "\n",
    "def read_qr(img):\n",
    "    codes = zbarlight.scan_codes(['qrcode'], img)\n",
    "    assert len(codes) == 1, codes\n",
    "    print(codes[0].decode('ascii'))\n",
    "    \n",
    "img = Image.open('preview.jpg')\n",
    "read_qr(img.resize((img.height * 5, img.width * 5)))"
   ]
  }
 ],
 "metadata": {
  "kernelspec": {
   "display_name": "Python 3",
   "language": "python",
   "name": "python3"
  },
  "language_info": {
   "codemirror_mode": {
    "name": "ipython",
    "version": 3
   },
   "file_extension": ".py",
   "mimetype": "text/x-python",
   "name": "python",
   "nbconvert_exporter": "python",
   "pygments_lexer": "ipython3",
   "version": "3.8.0"
  }
 },
 "nbformat": 4,
 "nbformat_minor": 2
}
