{
 "cells": [
  {
   "cell_type": "markdown",
   "metadata": {},
   "source": [
    "# HV19.04 password policy circumvention\n",
    "\n",
    "We get a little story and a .ahk ([AutoHotkey](https://www.autohotkey.com/)) file.\n",
    "\n",
    "*Santa released a new password policy (more than 40 characters, upper, lower, digit, special).*\n",
    "\n",
    "*The elves can't remember such long passwords, so they found a way to continue to use their old (bad) password:*\n",
    "\n",
    "`merry christmas geeks`"
   ]
  },
  {
   "cell_type": "code",
   "execution_count": 5,
   "metadata": {},
   "outputs": [
    {
     "name": "stdout",
     "output_type": "stream",
     "text": [
      "﻿::merry::\r",
      "\r\n",
      "FormatTime , x,, MM MMMM yyyy\r",
      "\r\n",
      "SendInput, %x%{left 4}{del 2}+{right 2}^c{end}{home}^v{home}V{right 2}{ASC 00123}\r",
      "\r\n",
      "return\r",
      "\r\n",
      "\r",
      "\r\n",
      "::christmas::\r",
      "\r\n",
      "SendInput HV19-pass-w0rd\r",
      "\r\n",
      "return\r",
      "\r\n",
      "\r",
      "\r\n",
      ":*?:is::\r",
      "\r\n",
      "Send - {del}{right}4h\r",
      "\r\n",
      "\r",
      "\r\n",
      ":*?:as::\r",
      "\r\n",
      "Send {left 8}rmmbr{end}{ASC 00125}{home}{right 10}\r",
      "\r\n",
      "return\r",
      "\r\n",
      "\r",
      "\r\n",
      ":*?:ee::\r",
      "\r\n",
      "Send {left}{left}{del}{del}{left},{right}e{right}3{right 2}e{right}{del 5}{home}H{right 4}\r",
      "\r\n",
      "return\r",
      "\r\n",
      "\r",
      "\r\n",
      ":*?:ks::\r",
      "\r\n",
      "Send {del}R3{right}e{right 2}3{right 2} {right 8} {right} the{right 3}t{right} 0f{right 3}{del}c{end}{left 5}{del 4}\r",
      "\r\n",
      "return\r",
      "\r\n",
      "\r",
      "\r\n",
      "::xmas::\r",
      "\r\n",
      "SendInput, -Hack-Vent-Xmas\r",
      "\r\n",
      "return\r",
      "\r\n",
      "\r",
      "\r\n",
      "::geeks::\r",
      "\r\n",
      "Send -1337-hack\r",
      "\r\n",
      "return\r",
      "\r\n"
     ]
    }
   ],
   "source": [
    "%cat HV19-PPC.ahk"
   ]
  },
  {
   "cell_type": "markdown",
   "metadata": {},
   "source": [
    "When we set up AutoHotkey with that file and type \"merry christmas geeks\" in a text editor (taking care that we don't type it too fast), we end up with a flag, `HV19{R3memb3r, rem3mber - the 24th 0f December}`."
   ]
  },
  {
   "cell_type": "code",
   "execution_count": null,
   "metadata": {},
   "outputs": [],
   "source": []
  }
 ],
 "metadata": {
  "kernelspec": {
   "display_name": "Python 3",
   "language": "python",
   "name": "python3"
  },
  "language_info": {
   "codemirror_mode": {
    "name": "ipython",
    "version": 3
   },
   "file_extension": ".py",
   "mimetype": "text/x-python",
   "name": "python",
   "nbconvert_exporter": "python",
   "pygments_lexer": "ipython3",
   "version": "3.8.0"
  }
 },
 "nbformat": 4,
 "nbformat_minor": 2
}
