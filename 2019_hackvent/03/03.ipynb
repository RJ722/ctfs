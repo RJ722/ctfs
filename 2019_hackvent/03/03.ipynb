{
 "cells": [
  {
   "cell_type": "markdown",
   "metadata": {},
   "source": [
    "# HV19.03 Hodor, Hodor, Hodor\n",
    "\n",
    "In this challenge, we get some weird text:\n",
    "    \n",
    "```\n",
    "$HODOR: hhodor. Hodor. Hodor!?  = `hodor?!? HODOR!? hodor? Hodor oHodor. hodor? , HODOR!?! ohodor!?  dhodor? hodor odhodor? d HodorHodor  Hodor!? HODOR HODOR? hodor! hodor!? HODOR hodor! hodor? ! \n",
    "\n",
    "hodor?!? Hodor  Hodor Hodor? Hodor  HODOR  rhodor? HODOR Hodor!?  h4Hodor?!? Hodor?!? 0r hhodor?  Hodor!? oHodor?! hodor? Hodor  Hodor! HODOR Hodor hodor? 64 HODOR Hodor  HODOR!? hodor? Hodor!? Hodor!? .\n",
    "\n",
    "HODOR?!? hodor- hodorHoOodoOor Hodor?!? OHoOodoOorHooodorrHODOR hodor. oHODOR... Dhodor- hodor?! HooodorrHODOR HoOodoOorHooodorrHODOR RoHODOR... HODOR!?! 1hodor?! HODOR... DHODOR- HODOR!?! HooodorrHODOR Hodor- HODORHoOodoOor HODOR!?! HODOR... DHODORHoOodoOor hodor. Hodor! HoOodoOorHodor HODORHoOodoOor 0Hooodorrhodor HoOodoOorHooodorrHODOR 0=`;\n",
    "hodor.hod(hhodor. Hodor. Hodor!? );\n",
    "```\n",
    "\n",
    "After spending some quality time with [my favourite search engine](https://duckduckgo.com/) it was clear that it's the [Hodor \"programming language\"](http://hodor-lang.org/). A `npm install hodor` later, we can call `hodor` and get funny error messages:"
   ]
  },
  {
   "cell_type": "code",
   "execution_count": 2,
   "metadata": {},
   "outputs": [
    {
     "name": "stdout",
     "output_type": "stream",
     "text": [
      "\u001b[31m\u001b[1mHODOR:\u001b[22m\u001b[39m\u001b[31m hodor hodor hodor!\u001b[39m\r\n"
     ]
    }
   ],
   "source": [
    "!hodor"
   ]
  },
  {
   "cell_type": "markdown",
   "metadata": {},
   "source": [
    "But when passing a file, it gets run:"
   ]
  },
  {
   "cell_type": "code",
   "execution_count": 3,
   "metadata": {},
   "outputs": [
    {
     "name": "stdout",
     "output_type": "stream",
     "text": [
      "\u001b[36m\u001b[1mHODOR: \u001b[22m\u001b[39m\u001b[37m\\-> \u001b[39m\u001b[37mtext.hd\u001b[39m\r\n",
      "Awesome, you decoded Hodors language! \r\n",
      "\r\n",
      "As sis a real h4xx0r he loves base64 as well.\r\n",
      "\r\n",
      "SFYxOXtoMDFkLXRoMy1kMDByLTQyMDQtbGQ0WX0=\r\n"
     ]
    }
   ],
   "source": [
    "!hodor text.hd"
   ]
  },
  {
   "cell_type": "markdown",
   "metadata": {},
   "source": [
    "All that's left to do is decoding the base64."
   ]
  },
  {
   "cell_type": "code",
   "execution_count": 4,
   "metadata": {},
   "outputs": [
    {
     "name": "stdout",
     "output_type": "stream",
     "text": [
      "HV19{h01d-th3-d00r-4204-ld4Y}"
     ]
    }
   ],
   "source": [
    "!echo 'SFYxOXtoMDFkLXRoMy1kMDByLTQyMDQtbGQ0WX0=' | base64 -d"
   ]
  }
 ],
 "metadata": {
  "kernelspec": {
   "display_name": "Python 3",
   "language": "python",
   "name": "python3"
  },
  "language_info": {
   "codemirror_mode": {
    "name": "ipython",
    "version": 3
   },
   "file_extension": ".py",
   "mimetype": "text/x-python",
   "name": "python",
   "nbconvert_exporter": "python",
   "pygments_lexer": "ipython3",
   "version": "3.8.0"
  }
 },
 "nbformat": 4,
 "nbformat_minor": 2
}
