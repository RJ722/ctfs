{
 "cells": [
  {
   "cell_type": "markdown",
   "metadata": {},
   "source": [
    "# HV19.H4 Hidden Four\n",
    "\n",
    "Released together with day 14.\n",
    "\n",
    "On day 14, we got a very weird flag by modifying some Perl code:\n",
    "    \n",
    "```\n",
    "HV19{s@@jSfx4gPcvtiwxPCagrtQ@,y^p-za-oPQ^a-z\\x20\\n^&&s[(.)(..)][\\2\\1]g;s%4(...)%\"p$1t\"%ee}\n",
    "```\n",
    "\n",
    "Something that looks like random garbage might as well be valid perl code, and it is:"
   ]
  },
  {
   "cell_type": "code",
   "execution_count": 1,
   "metadata": {},
   "outputs": [
    {
     "name": "stdout",
     "output_type": "stream",
     "text": [
      "Squ4ring the Circle\r\n"
     ]
    }
   ],
   "source": [
    "!echo 's@@jSfx4gPcvtiwxPCagrtQ@,y^p-za-oPQ^a-z\\x20\\n^&&s[(.)(..)][\\2\\1]g;s%4(...)%\"p$1t\"%ee' | perl"
   ]
  },
  {
   "cell_type": "markdown",
   "metadata": {},
   "source": [
    "Thus, the flag is `HV19{Squ4ring the Circle}`."
   ]
  }
 ],
 "metadata": {
  "kernelspec": {
   "display_name": "Python 3",
   "language": "python",
   "name": "python3"
  },
  "language_info": {
   "codemirror_mode": {
    "name": "ipython",
    "version": 3
   },
   "file_extension": ".py",
   "mimetype": "text/x-python",
   "name": "python",
   "nbconvert_exporter": "python",
   "pygments_lexer": "ipython3",
   "version": "3.8.0"
  }
 },
 "nbformat": 4,
 "nbformat_minor": 2
}
