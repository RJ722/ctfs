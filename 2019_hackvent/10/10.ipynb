{
 "cells": [
  {
   "cell_type": "markdown",
   "metadata": {},
   "source": [
    "# HV19.10 Guess what\n",
    "\n",
    "With the new (v3) fixed binary, this was easy - I suspect there would be a harder \"proper\" solution, maybe?\n",
    "\n",
    "Running the binary asks for an input:"
   ]
  },
  {
   "cell_type": "code",
   "execution_count": 1,
   "metadata": {},
   "outputs": [
    {
     "name": "stdout",
     "output_type": "stream",
     "text": [
      "Your input: "
     ]
    }
   ],
   "source": [
    "!./guess3"
   ]
  },
  {
   "cell_type": "markdown",
   "metadata": {},
   "source": [
    "With some input, we get an error:"
   ]
  },
  {
   "cell_type": "code",
   "execution_count": 4,
   "metadata": {},
   "outputs": [
    {
     "name": "stdout",
     "output_type": "stream",
     "text": [
      "nooooh. try harder!\r\n"
     ]
    }
   ],
   "source": [
    "!echo foo | ./guess3"
   ]
  },
  {
   "cell_type": "markdown",
   "metadata": {},
   "source": [
    "When giving an empty input, we get a bash error:"
   ]
  },
  {
   "cell_type": "code",
   "execution_count": 5,
   "metadata": {},
   "outputs": [
    {
     "name": "stdout",
     "output_type": "stream",
     "text": [
      "./guess3: line 4: [: =: unary operator expected\r\n",
      "nooooh. try harder!\r\n"
     ]
    }
   ],
   "source": [
    "!echo | ./guess3"
   ]
  },
  {
   "cell_type": "markdown",
   "metadata": {},
   "source": [
    "## Interesting but irrelevant analysis\n",
    "\n",
    "With [ltrace](https://www.ltrace.org/) we can find out that it does some weird stuff with environment variables (which change every time) and executes itself. Probably to make it harder to attach a debugger?"
   ]
  },
  {
   "cell_type": "code",
   "execution_count": 6,
   "metadata": {},
   "outputs": [
    {
     "name": "stdout",
     "output_type": "stream",
     "text": [
      "guess3->getenv(\"x2e7e802a0a5b594b\")              = nil\r\n",
      "guess3->putenv(\"x2e7e802a0a5b594b=33502560908609\"...) = 0\r\n",
      "guess3->execvp(0x555ba2cba09a, 0x555ba2e78530, 32, 0x7ffd9033ef48 <no return ...>\r\n",
      "--- Called exec() ---\r\n",
      "--- Called exec() ---\r\n",
      "guess3->getenv(\"x2e7e802a0a5b594b\")              = \"3350256090860968267 1\"\r\n",
      "guess3->execvp(0x5575de99809a, 0x5575e00b12a0, 32, 0x7ffc43710278 <no return ...>\r\n",
      "--- Called exec() ---\r\n",
      "./guess3: line 4: [: =: unary operator expected\r\n",
      "nooooh. try harder!\r\n",
      "+++ exited (status 0) +++\r\n"
     ]
    }
   ],
   "source": [
    "!echo | ltrace -e execvp+getenv+putenv ./guess3"
   ]
  },
  {
   "cell_type": "code",
   "execution_count": 8,
   "metadata": {},
   "outputs": [
    {
     "name": "stdout",
     "output_type": "stream",
     "text": [
      "guess3->getenv(\"xbb69d14a79547d5b\")              = nil\r\n",
      "guess3->putenv(\"xbb69d14a79547d5b=13504555075440\"...) = 0\r\n",
      "guess3->execvp(0x563178b4509a, 0x56317a284540, 32, 0x7fffaaa4f178 <no return ...>\r\n",
      "--- Called exec() ---\r\n",
      "--- Called exec() ---\r\n",
      "guess3->getenv(\"xbb69d14a79547d5b\")              = \"13504555075440508251 1\"\r\n",
      "guess3->execvp(0x56332b84b09a, 0x56332c6002a0, 32, 0x7fff989c4e18 <no return ...>\r\n",
      "--- Called exec() ---\r\n",
      "./guess3: line 4: [: =: unary operator expected\r\n",
      "nooooh. try harder!\r\n",
      "+++ exited (status 0) +++\r\n"
     ]
    }
   ],
   "source": [
    "!echo | ltrace -e execvp+getenv+putenv ./guess3"
   ]
  },
  {
   "cell_type": "markdown",
   "metadata": {},
   "source": [
    "`strace` reveals that it calls `getpid()` before doing that. With [LD_PRELOAD](https://jvns.ca/blog/2014/11/27/ld-preload-is-super-fun-and-easy/) and the [set_pid](https://github.com/AdamSimpson/set_pid) preload library we can influence which PID it gets, which makes those numbers stable:"
   ]
  },
  {
   "cell_type": "code",
   "execution_count": 10,
   "metadata": {},
   "outputs": [
    {
     "name": "stdout",
     "output_type": "stream",
     "text": [
      "guess3->getenv(\"x874892971c6f3796\")              = nil\n",
      "guess3->putenv(\"x874892971c6f3796=97482025711582\"...) = 0\n",
      "guess3->execvp(0x555cd3cfe09a, 0x555cd448e540, 32, 0x7ffd2a3423c8 <no return ...>\n",
      "--- Called exec() ---\n",
      "--- Called exec() ---\n",
      "guess3->getenv(\"x874892971c6f3796\")              = \"9748202571158206358 1\"\n",
      "guess3->execvp(0x55601a06809a, 0x55601bea62a0, 32, 0x7ffe15eea918 <no return ...>\n",
      "--- Called exec() ---\n",
      "./guess3: line 4: [: =: unary operator expected\n",
      "nooooh. try harder!\n",
      "+++ exited (status 0) +++\n"
     ]
    }
   ],
   "source": [
    "!echo | LD_PRELOAD=\"$PWD/set_pid/libset_pid.so\" OLCF_PID=42 ltrace -e execvp+getenv+putenv-@libset_pid.so ./guess3"
   ]
  },
  {
   "cell_type": "code",
   "execution_count": 11,
   "metadata": {},
   "outputs": [
    {
     "name": "stdout",
     "output_type": "stream",
     "text": [
      "guess3->getenv(\"x874892971c6f3796\")              = nil\n",
      "guess3->putenv(\"x874892971c6f3796=97482025711582\"...) = 0\n",
      "guess3->execvp(0x55f4c0b5d09a, 0x55f4c0fc4540, 32, 0x7ffc4fba8da8 <no return ...>\n",
      "--- Called exec() ---\n",
      "--- Called exec() ---\n",
      "guess3->getenv(\"x874892971c6f3796\")              = \"9748202571158206358 1\"\n",
      "guess3->execvp(0x55fd94dd609a, 0x55fd95db52a0, 32, 0x7ffcb6a90648 <no return ...>\n",
      "--- Called exec() ---\n",
      "./guess3: line 4: [: =: unary operator expected\n",
      "nooooh. try harder!\n",
      "+++ exited (status 0) +++\n"
     ]
    }
   ],
   "source": [
    "!echo | LD_PRELOAD=\"$PWD/set_pid/libset_pid.so\" OLCF_PID=42 ltrace -e execvp+getenv+putenv-@libset_pid.so ./guess3"
   ]
  },
  {
   "cell_type": "markdown",
   "metadata": {},
   "source": [
    "If we now set that environment variable to the correct value, it doesn't re-execute itself:"
   ]
  },
  {
   "cell_type": "code",
   "execution_count": 13,
   "metadata": {},
   "outputs": [
    {
     "name": "stdout",
     "output_type": "stream",
     "text": [
      "guess3->getenv(\"x874892971c6f3796\")              = \"9748202571158206358 1\"\r\n",
      "guess3->execvp(0x5578d5e8a09a, 0x5578d702a2a0, 32, 0x7fffa0a86578 <no return ...>\r\n",
      "--- Called exec() ---\r\n",
      "./guess3: line 4: [: =: unary operator expected\r\n",
      "nooooh. try harder!\r\n",
      "+++ exited (status 0) +++\r\n"
     ]
    }
   ],
   "source": [
    "!echo | LD_PRELOAD=\"$PWD/set_pid/libset_pid.so\" OLCF_PID=42 x874892971c6f3796=\"9748202571158206358 1\" ltrace -e execvp+getenv+putenv-@libset_pid.so ./guess3"
   ]
  },
  {
   "cell_type": "markdown",
   "metadata": {},
   "source": [
    "We can also set the \" 1\" at the end to something else... However, 0 does the same, 2 always seems to re-execute... With 3 we get an error:"
   ]
  },
  {
   "cell_type": "code",
   "execution_count": 15,
   "metadata": {},
   "outputs": [
    {
     "name": "stdout",
     "output_type": "stream",
     "text": [
      "guess3->getenv(\"x874892971c6f3796\")              = \"9748202571158206358 3\"\r\n",
      "./guess3: abnormal behavior!\r\n",
      "+++ exited (status 1) +++\r\n"
     ]
    }
   ],
   "source": [
    "!echo | LD_PRELOAD=\"$PWD/set_pid/libset_pid.so\" OLCF_PID=42 x874892971c6f3796=\"9748202571158206358 3\" ltrace -e execvp+getenv+putenv-@libset_pid.so ./guess3"
   ]
  },
  {
   "cell_type": "markdown",
   "metadata": {},
   "source": [
    "## Solution\n",
    "\n",
    "We already found out that the binary calls bash somehow. To do so, it'll need to pass a bash script, either as file or as string. Let's try to find out more via [strace](https://strace.io):"
   ]
  },
  {
   "cell_type": "code",
   "execution_count": 16,
   "metadata": {},
   "outputs": [
    {
     "name": "stdout",
     "output_type": "stream",
     "text": [
      "\u001b[32;1mexecve\u001b[0m(\"./guess3\", [\"./guess3\"], 0x7ffef9990ab0 /* 72 vars */) \u001b[34m=\u001b[0m \u001b[34;1m0\u001b[0m\r\n",
      "\u001b[32;1mexecve\u001b[0m(\"/bin/bash\", [\"./guess3\", \"-c\", \"exec './guess3' \\\"$@\\\"\", \"./guess3\"], 0x55e65735f2d0 /* 73 vars */) \u001b[34m=\u001b[0m \u001b[34;1m0\u001b[0m\r\n",
      "\u001b[32;1mexecve\u001b[0m(\"/home/florian/proj/hackinglab/2019_hackvent/10/guess3\", [\"./guess3\"], 0x5621657283c0 /* 73 vars */) \u001b[34m=\u001b[0m \u001b[34;1m0\u001b[0m\r\n",
      "\u001b[32;1mexecve\u001b[0m(\"/bin/bash\", [\"./guess3\", \"-c\", \"                                \"..., \"./guess3\"], 0x7ffd1d452898 /* 72 vars */) \u001b[34m=\u001b[0m \u001b[34;1m0\u001b[0m\r\n",
      "./guess3: line 4: [: =: unary operator expected\r\n",
      "nooooh. try harder!\r\n",
      "+++ exited with 0 +++\r\n"
     ]
    }
   ],
   "source": [
    "!echo | strace -e execve ./guess3"
   ]
  },
  {
   "cell_type": "markdown",
   "metadata": {},
   "source": [
    "Looks like there is some whitespace there - let's tell strace to show us more."
   ]
  },
  {
   "cell_type": "code",
   "execution_count": 17,
   "metadata": {},
   "outputs": [
    {
     "name": "stdout",
     "output_type": "stream",
     "text": [
      "\u001b[32;1mexecve\u001b[0m(\"./guess3\", [\"./guess3\"], 0x7fff344629d0 /* 72 vars */) \u001b[34m=\u001b[0m \u001b[34;1m0\u001b[0m\r\n",
      "\u001b[32;1mexecve\u001b[0m(\"/bin/bash\", [\"./guess3\", \"-c\", \"exec './guess3' \\\"$@\\\"\", \"./guess3\"], 0x556f24c712d0 /* 73 vars */) \u001b[34m=\u001b[0m \u001b[34;1m0\u001b[0m\r\n",
      "\u001b[32;1mexecve\u001b[0m(\"/home/florian/proj/hackinglab/2019_hackvent/10/guess3\", [\"./guess3\"], 0x56322ef503c0 /* 73 vars */) \u001b[34m=\u001b[0m \u001b[34;1m0\u001b[0m\r\n",
      "\u001b[32;1mexecve\u001b[0m(\"/bin/bash\", [\"./guess3\", \"-c\", \"                                                                                                                                                                                                                                                                                                                                                                                                                                                                                                                                                                                                                                                                                                                                                                                                                                                                                                                                                                                                                                                                                                                                                                                                                                                                                                                                                                                                                                                                                                                                                                                                                                                                                                                                                                                                                                                                                                                                                                                                                                                                                                                                                                                                                                                                                                                                                                                                                                                                                                                                                                                                                                                                                                                                                                                                                                                                                                                                                                                                                                                                                                                                                                                                                                                                                                                                                                                                                                                                                                                                                                                                                                                                                                                                                                                                                                                                                                                                                                                                                                                                                                                                                                                                                                                                #!/bin/bash\\n\\nread -p \\\"Your input: \\\" input\\n\\nif [ $input = \\\"HV19{Sh3ll_0bfuscat10n_1s_fut1l3}\\\" ] \\nthen\\n  echo \\\"success\\\"\\nelse \\n  echo \\\"nooooh. try harder!\\\"\\nfi\\n\\n\", \"./guess3\"], 0x7ffda1c55b78 /* 72 vars */) \u001b[34m=\u001b[0m \u001b[34;1m0\u001b[0m\r\n",
      "./guess3: line 4: [: =: unary operator expected\r\n",
      "nooooh. try harder!\r\n",
      "+++ exited with 0 +++\r\n"
     ]
    }
   ],
   "source": [
    "!echo | strace -e execve -s 8192 ./guess3"
   ]
  },
  {
   "cell_type": "markdown",
   "metadata": {},
   "source": [
    "If we print that string, we see the script and flag embedded into it:"
   ]
  },
  {
   "cell_type": "code",
   "execution_count": 18,
   "metadata": {},
   "outputs": [
    {
     "name": "stdout",
     "output_type": "stream",
     "text": [
      "#!/bin/bash\n",
      "\n",
      "read -p \"Your input: \" input\n",
      "\n",
      "if [ $input = \"HV19{Sh3ll_0bfuscat10n_1s_fut1l3}\" ] \n",
      "then\n",
      "  echo \"success\"\n",
      "else \n",
      "  echo \"nooooh. try harder!\"\n",
      "fi\n",
      "\n",
      "\n"
     ]
    }
   ],
   "source": [
    "print(\"#!/bin/bash\\n\\nread -p \\\"Your input: \\\" input\\n\\nif [ $input = \\\"HV19{Sh3ll_0bfuscat10n_1s_fut1l3}\\\" ] \\nthen\\n  echo \\\"success\\\"\\nelse \\n  echo \\\"nooooh. try harder!\\\"\\nfi\\n\\n\")"
   ]
  },
  {
   "cell_type": "markdown",
   "metadata": {},
   "source": [
    "## Solution 2\n",
    "\n",
    "We can tell bash to do the equivalent of `set -x` (tracing of various builtin calls) via environment variables:"
   ]
  },
  {
   "cell_type": "code",
   "execution_count": 19,
   "metadata": {},
   "outputs": [
    {
     "name": "stdout",
     "output_type": "stream",
     "text": [
      "+ exec ./guess3\r\n",
      "+ read -p 'Your input: ' input\r\n",
      "+ '[' blah = 'HV19{Sh3ll_0bfuscat10n_1s_fut1l3}' ']'\r\n",
      "+ echo 'nooooh. try harder!'\r\n",
      "nooooh. try harder!\r\n"
     ]
    }
   ],
   "source": [
    "!echo blah | env SHELLOPTS=xtrace ./guess3"
   ]
  },
  {
   "cell_type": "markdown",
   "metadata": {},
   "source": [
    "## Solution 3\n",
    "\n",
    "Use `LD_PRELOAD` and [execvehack](https://github.com/gonoph/execvhack) to log the arguments:"
   ]
  },
  {
   "cell_type": "code",
   "execution_count": 21,
   "metadata": {},
   "outputs": [
    {
     "name": "stdout",
     "output_type": "stream",
     "text": [
      "Loading hack.\r\n",
      "/bin/bash: argv[0]: [[./guess3]]\r\n",
      "/bin/bash: argv[1]: [[-c]]\r\n",
      "/bin/bash: argv[2]: [[exec './guess3' \"$@\"]]\r\n",
      "/bin/bash: argv[3]: [[./guess3]]\r\n",
      "Loading hack.\r\n",
      "/home/florian/proj/hackinglab/2019_hackvent/10/guess3: argv[0]: [[./guess3]]\r\n",
      "Loading hack.\r\n",
      "/bin/bash: argv[0]: [[./guess3]]\r\n",
      "/bin/bash: argv[1]: [[-c]]\r\n",
      "/bin/bash: argv[2]: [[                                                                                                                                                                                                                                                                                                                                                                                                                                                                                                                                                                                                                                                                                                                                                                                                                                                                                                                                                                                                                                                                                                                                                                                                                                                                                                                                                                                                                                                                                                                                                                                                                                                                                                                                                                                                                                                                                                                                                                                                                                                                                                                                                                                                                                                                                                                                                                                                                                                                                                                                                                                                                                                                                                                                                                                                                                                                                                                                                                                                                                                                                                                                                                                                                                                                                                                                                                                                                                                                                                                                                                                                                                                                                                                                                                                                                                                                                                                                                                                                                                                                                                                                                                                                                                                                #!/bin/bash\r\n",
      "\r\n",
      "read -p \"Your input: \" input\r\n",
      "\r\n",
      "if [ $input = \"HV19{Sh3ll_0bfuscat10n_1s_fut1l3}\" ] \r\n",
      "then\r\n",
      "  echo \"success\"\r\n",
      "else \r\n",
      "  echo \"nooooh. try harder!\"\r\n",
      "fi\r\n",
      "\r\n",
      "]]\r\n",
      "/bin/bash: argv[3]: [[./guess3]]\r\n",
      "Loading hack.\r\n",
      "nooooh. try harder!\r\n"
     ]
    }
   ],
   "source": [
    "!echo blah | env LD_PRELOAD=execvhack/execvhack.so ./guess3"
   ]
  },
  {
   "cell_type": "markdown",
   "metadata": {},
   "source": [
    "## Solution 4\n",
    "\n",
    "Use the Linux Audit framework to log the arguments.\n",
    "\n",
    "Set up audit:\n",
    "    \n",
    "```\n",
    "sudo auditctl -a exit,always -F path=/bin/bash -F arch=x86_64 -S execve\n",
    "sudo systemctl start auditd\n",
    "```\n",
    "\n",
    "Run `./guess3` and find this in `/var/log/audit/audit.log`:\n",
    "    \n",
    "```\n",
    "\n",
    "type=EXECVE msg=audit(1576014591.504:1146):  a2[1]=2020202020202020202020202020202020202020202020202020202020202020202020202020202020202020202020202020202020202020202020202020202020202020202020202020202020202020202020202020202020202020202020202020202020202020202020202020202020202020202020202020202020202020202020202020202020202020202020202020202020202020202020202020202020202020202020202020202020202020202020202020202020202020202020202020202020202020202020202020202020202020202020202020202020202020202020202020202020202020202020202020202020202020202020202020202020202020202020202020202020202020202020202020202020202020202020202020202020202020202020202020202020202020202020202020202020202020202020202020202020202020202020202020202020202020202020202020202020202020202020202020202020202023212F62696E2F626173680A0A72656164202D702022596F757220696E7075743A202220696E7075740A0A6966205B2024696E707574203D2022485631397B5368336C6C5F306266757363617431306E5F31735F667574316C337D22205D200A7468656E0A20206563686F202273756363657373220A656C7365200A20206563686F20226E6F6F6F6F682E207472792068617264657221220A66690A0A a3=\"./guess3\"\n",
    "```\n",
    "\n",
    "Using a bit of Python, we can get the script again:\n"
   ]
  },
  {
   "cell_type": "code",
   "execution_count": 24,
   "metadata": {},
   "outputs": [
    {
     "name": "stdout",
     "output_type": "stream",
     "text": [
      "#!/bin/bash\n",
      "\n",
      "read -p \"Your input: \" input\n",
      "\n",
      "if [ $input = \"HV19{Sh3ll_0bfuscat10n_1s_fut1l3}\" ] \n",
      "then\n",
      "  echo \"success\"\n",
      "else \n",
      "  echo \"nooooh. try harder!\"\n",
      "fi\n"
     ]
    }
   ],
   "source": [
    "import binascii\n",
    "\n",
    "data = \"2020202020202020202020202020202020202020202020202020202020202020202020202020202020202020202020202020202020202020202020202020202020202020202020202020202020202020202020202020202020202020202020202020202020202020202020202020202020202020202020202020202020202020202020202020202020202020202020202020202020202020202020202020202020202020202020202020202020202020202020202020202020202020202020202020202020202020202020202020202020202020202020202020202020202020202020202020202020202020202020202020202020202020202020202020202020202020202020202020202020202020202020202020202020202020202020202020202020202020202020202020202020202020202020202020202020202020202020202020202020202020202020202020202020202020202020202020202020202020202020202020202020202023212F62696E2F626173680A0A72656164202D702022596F757220696E7075743A202220696E7075740A0A6966205B2024696E707574203D2022485631397B5368336C6C5F306266757363617431306E5F31735F667574316C337D22205D200A7468656E0A20206563686F202273756363657373220A656C7365200A20206563686F20226E6F6F6F6F682E207472792068617264657221220A66690A0A\"\n",
    "print(binascii.unhexlify(data).strip().decode('ascii'))"
   ]
  },
  {
   "cell_type": "markdown",
   "metadata": {},
   "source": [
    "## Bonus\n",
    "\n",
    "The variable expansion in `if [ $input = \"HV...\" ]` is [improperly quoted](https://mywiki.wooledge.org/Quotes).\n",
    "\n",
    "With a specially crafted input, we can trick the condition to read `[ ! a = \"HV..\" ]` so it prints \"success\" despite not having the flag:\n",
    "    "
   ]
  },
  {
   "cell_type": "code",
   "execution_count": 1,
   "metadata": {},
   "outputs": [
    {
     "name": "stdout",
     "output_type": "stream",
     "text": [
      "success\r\n"
     ]
    }
   ],
   "source": [
    "!echo \"! a\" | ./guess3"
   ]
  }
 ],
 "metadata": {
  "kernelspec": {
   "display_name": "Python 3",
   "language": "python",
   "name": "python3"
  },
  "language_info": {
   "codemirror_mode": {
    "name": "ipython",
    "version": 3
   },
   "file_extension": ".py",
   "mimetype": "text/x-python",
   "name": "python",
   "nbconvert_exporter": "python",
   "pygments_lexer": "ipython3",
   "version": "3.8.0"
  }
 },
 "nbformat": 4,
 "nbformat_minor": 2
}
